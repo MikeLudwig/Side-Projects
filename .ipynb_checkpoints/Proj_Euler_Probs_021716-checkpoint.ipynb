{
 "cells": [
  {
   "cell_type": "markdown",
   "metadata": {
    "collapsed": true
   },
   "source": [
    "COUNTING SUNDAYS     Problem 19\n",
    "\n",
    "You are given the following information, but you may prefer to do some research for yourself.\n",
    "\n",
    "    1 Jan 1900 was a Monday.\n",
    "    Thirty days has September,\n",
    "    April, June and November.\n",
    "    All the rest have thirty-one,\n",
    "    Saving February alone,\n",
    "    Which has twenty-eight, rain or shine.\n",
    "    And on leap years, twenty-nine.\n",
    "    A leap year occurs on any year evenly divisible by 4, but not on a century unless it is divisible by 400.\n",
    "\n",
    "How many Sundays fell on the first of the month during the twentieth century (1 Jan 1901 to 31 Dec 2000)?"
   ]
  },
  {
   "cell_type": "code",
   "execution_count": 1,
   "metadata": {
    "collapsed": false
   },
   "outputs": [
    {
     "name": "stdout",
     "output_type": "stream",
     "text": [
      "1901-09-01 is a Sunday!\n",
      "1901-12-01 is a Sunday!\n",
      "1902-06-01 is a Sunday!\n",
      "1903-02-01 is a Sunday!\n",
      "1903-03-01 is a Sunday!\n",
      "1903-11-01 is a Sunday!\n",
      "1904-05-01 is a Sunday!\n",
      "1905-01-01 is a Sunday!\n",
      "1905-10-01 is a Sunday!\n",
      "1906-04-01 is a Sunday!\n",
      "1906-07-01 is a Sunday!\n",
      "1907-09-01 is a Sunday!\n",
      "1907-12-01 is a Sunday!\n",
      "1908-03-01 is a Sunday!\n",
      "1908-11-01 is a Sunday!\n",
      "1909-08-01 is a Sunday!\n",
      "1910-05-01 is a Sunday!\n",
      "1911-01-01 is a Sunday!\n",
      "1911-10-01 is a Sunday!\n",
      "1912-09-01 is a Sunday!\n",
      "1912-12-01 is a Sunday!\n",
      "1913-06-01 is a Sunday!\n",
      "1914-02-01 is a Sunday!\n",
      "1914-03-01 is a Sunday!\n",
      "1914-11-01 is a Sunday!\n",
      "1915-08-01 is a Sunday!\n",
      "1916-10-01 is a Sunday!\n",
      "1917-04-01 is a Sunday!\n",
      "1917-07-01 is a Sunday!\n",
      "1918-09-01 is a Sunday!\n",
      "1918-12-01 is a Sunday!\n",
      "1919-06-01 is a Sunday!\n",
      "1920-02-01 is a Sunday!\n",
      "1920-08-01 is a Sunday!\n",
      "1921-05-01 is a Sunday!\n",
      "1922-01-01 is a Sunday!\n",
      "1922-10-01 is a Sunday!\n",
      "1923-04-01 is a Sunday!\n",
      "1923-07-01 is a Sunday!\n",
      "1924-06-01 is a Sunday!\n",
      "1925-02-01 is a Sunday!\n",
      "1925-03-01 is a Sunday!\n",
      "1925-11-01 is a Sunday!\n",
      "1926-08-01 is a Sunday!\n",
      "1927-05-01 is a Sunday!\n",
      "1928-01-01 is a Sunday!\n",
      "1928-04-01 is a Sunday!\n",
      "1928-07-01 is a Sunday!\n",
      "1929-09-01 is a Sunday!\n",
      "1929-12-01 is a Sunday!\n",
      "1930-06-01 is a Sunday!\n",
      "1931-02-01 is a Sunday!\n",
      "1931-03-01 is a Sunday!\n",
      "1931-11-01 is a Sunday!\n",
      "1932-05-01 is a Sunday!\n",
      "1933-01-01 is a Sunday!\n",
      "1933-10-01 is a Sunday!\n",
      "1934-04-01 is a Sunday!\n",
      "1934-07-01 is a Sunday!\n",
      "1935-09-01 is a Sunday!\n",
      "1935-12-01 is a Sunday!\n",
      "1936-03-01 is a Sunday!\n",
      "1936-11-01 is a Sunday!\n",
      "1937-08-01 is a Sunday!\n",
      "1938-05-01 is a Sunday!\n",
      "1939-01-01 is a Sunday!\n",
      "1939-10-01 is a Sunday!\n",
      "1940-09-01 is a Sunday!\n",
      "1940-12-01 is a Sunday!\n",
      "1941-06-01 is a Sunday!\n",
      "1942-02-01 is a Sunday!\n",
      "1942-03-01 is a Sunday!\n",
      "1942-11-01 is a Sunday!\n",
      "1943-08-01 is a Sunday!\n",
      "1944-10-01 is a Sunday!\n",
      "1945-04-01 is a Sunday!\n",
      "1945-07-01 is a Sunday!\n",
      "1946-09-01 is a Sunday!\n",
      "1946-12-01 is a Sunday!\n",
      "1947-06-01 is a Sunday!\n",
      "1948-02-01 is a Sunday!\n",
      "1948-08-01 is a Sunday!\n",
      "1949-05-01 is a Sunday!\n",
      "1950-01-01 is a Sunday!\n",
      "1950-10-01 is a Sunday!\n",
      "1951-04-01 is a Sunday!\n",
      "1951-07-01 is a Sunday!\n",
      "1952-06-01 is a Sunday!\n",
      "1953-02-01 is a Sunday!\n",
      "1953-03-01 is a Sunday!\n",
      "1953-11-01 is a Sunday!\n",
      "1954-08-01 is a Sunday!\n",
      "1955-05-01 is a Sunday!\n",
      "1956-01-01 is a Sunday!\n",
      "1956-04-01 is a Sunday!\n",
      "1956-07-01 is a Sunday!\n",
      "1957-09-01 is a Sunday!\n",
      "1957-12-01 is a Sunday!\n",
      "1958-06-01 is a Sunday!\n",
      "1959-02-01 is a Sunday!\n",
      "1959-03-01 is a Sunday!\n",
      "1959-11-01 is a Sunday!\n",
      "1960-05-01 is a Sunday!\n",
      "1961-01-01 is a Sunday!\n",
      "1961-10-01 is a Sunday!\n",
      "1962-04-01 is a Sunday!\n",
      "1962-07-01 is a Sunday!\n",
      "1963-09-01 is a Sunday!\n",
      "1963-12-01 is a Sunday!\n",
      "1964-03-01 is a Sunday!\n",
      "1964-11-01 is a Sunday!\n",
      "1965-08-01 is a Sunday!\n",
      "1966-05-01 is a Sunday!\n",
      "1967-01-01 is a Sunday!\n",
      "1967-10-01 is a Sunday!\n",
      "1968-09-01 is a Sunday!\n",
      "1968-12-01 is a Sunday!\n",
      "1969-06-01 is a Sunday!\n",
      "1970-02-01 is a Sunday!\n",
      "1970-03-01 is a Sunday!\n",
      "1970-11-01 is a Sunday!\n",
      "1971-08-01 is a Sunday!\n",
      "1972-10-01 is a Sunday!\n",
      "1973-04-01 is a Sunday!\n",
      "1973-07-01 is a Sunday!\n",
      "1974-09-01 is a Sunday!\n",
      "1974-12-01 is a Sunday!\n",
      "1975-06-01 is a Sunday!\n",
      "1976-02-01 is a Sunday!\n",
      "1976-08-01 is a Sunday!\n",
      "1977-05-01 is a Sunday!\n",
      "1978-01-01 is a Sunday!\n",
      "1978-10-01 is a Sunday!\n",
      "1979-04-01 is a Sunday!\n",
      "1979-07-01 is a Sunday!\n",
      "1980-06-01 is a Sunday!\n",
      "1981-02-01 is a Sunday!\n",
      "1981-03-01 is a Sunday!\n",
      "1981-11-01 is a Sunday!\n",
      "1982-08-01 is a Sunday!\n",
      "1983-05-01 is a Sunday!\n",
      "1984-01-01 is a Sunday!\n",
      "1984-04-01 is a Sunday!\n",
      "1984-07-01 is a Sunday!\n",
      "1985-09-01 is a Sunday!\n",
      "1985-12-01 is a Sunday!\n",
      "1986-06-01 is a Sunday!\n",
      "1987-02-01 is a Sunday!\n",
      "1987-03-01 is a Sunday!\n",
      "1987-11-01 is a Sunday!\n",
      "1988-05-01 is a Sunday!\n",
      "1989-01-01 is a Sunday!\n",
      "1989-10-01 is a Sunday!\n",
      "1990-04-01 is a Sunday!\n",
      "1990-07-01 is a Sunday!\n",
      "1991-09-01 is a Sunday!\n",
      "1991-12-01 is a Sunday!\n",
      "1992-03-01 is a Sunday!\n",
      "1992-11-01 is a Sunday!\n",
      "1993-08-01 is a Sunday!\n",
      "1994-05-01 is a Sunday!\n",
      "1995-01-01 is a Sunday!\n",
      "1995-10-01 is a Sunday!\n",
      "1996-09-01 is a Sunday!\n",
      "1996-12-01 is a Sunday!\n",
      "1997-06-01 is a Sunday!\n",
      "1998-02-01 is a Sunday!\n",
      "1998-03-01 is a Sunday!\n",
      "1998-11-01 is a Sunday!\n",
      "1999-08-01 is a Sunday!\n",
      "2000-10-01 is a Sunday!\n"
     ]
    },
    {
     "data": {
      "text/plain": [
       "171"
      ]
     },
     "execution_count": 1,
     "metadata": {},
     "output_type": "execute_result"
    }
   ],
   "source": [
    "from datetime import timedelta, date\n",
    "\n",
    "def daterange(start_date, end_date):\n",
    "    # uses a generator function to iterate over a range of dates\n",
    "    for n in range(int ((end_date - start_date).days)):\n",
    "        yield start_date + timedelta(n)\n",
    "\n",
    "def generate_first_sundays(start_date, end_date):\n",
    "    # finds how many Sundays fell on first of the month\n",
    "    answer_days = 0\n",
    "    for single_date in daterange(start_date, end_date):\n",
    "        if (single_date.weekday()== 6) & (single_date.day == 1):\n",
    "            print(single_date.strftime(\"%Y-%m-%d\") + ' is a Sunday!')\n",
    "            answer_days += 1\n",
    "    return answer_days\n",
    "\n",
    "start_date = date(1901, 1, 1)\n",
    "end_date = date(2000, 12, 31)\n",
    "\n",
    "generate_first_sundays(start_date, end_date)"
   ]
  },
  {
   "cell_type": "markdown",
   "metadata": {},
   "source": [
    "NON-ABUNDANT SUMS    Problem 23\n",
    "\n",
    "A perfect number is a number for which the sum of its proper divisors is exactly equal to the number. \n",
    "For example, the sum of the proper divisors of 28 would be 1 + 2 + 4 + 7 + 14 = 28, \n",
    "which means that 28 is a perfect number.\n",
    "\n",
    "A number n is called deficient if the sum of its proper divisors is less than n and it is called abundant \n",
    "if this sum exceeds n.\n",
    "\n",
    "As 12 is the smallest abundant number, 1 + 2 + 3 + 4 + 6 = 16, the smallest number that can be written \n",
    "as the sum of two abundant numbers is 24. \n",
    "By mathematical analysis, it can be shown that all integers greater than 28123 can be written as the \n",
    "sum of two abundant numbers. \n",
    "However, this upper limit cannot be reduced any further by analysis even though it is known that \n",
    "the greatest number that cannot be expressed as the sum of two abundant numbers is less than this limit.\n",
    "\n",
    "Find the sum of all the positive integers which cannot be written as the sum of two abundant numbers.\n"
   ]
  },
  {
   "cell_type": "code",
   "execution_count": 2,
   "metadata": {
    "collapsed": false
   },
   "outputs": [
    {
     "name": "stdout",
     "output_type": "stream",
     "text": [
      "4179871\n"
     ]
    }
   ],
   "source": [
    "from math import sqrt\n",
    "\n",
    "def genprop_divs(num):\n",
    "    #returns a list of the proper divisors of a number\n",
    "    num_list = [i for i in range(1, (num + 1) // 2 + 1) if num%i == 0 and num!= i]\n",
    "    return num_list\n",
    "\n",
    "def sum_list(num_list):\n",
    "    #returns the sum of a list of numbers\n",
    "    sum=0\n",
    "    for i in num_list:\n",
    "        sum= sum+i\n",
    "    return sum\n",
    "\n",
    "def gen_abund_num_list(to_num):\n",
    "    #returns a list of abundant numbers\n",
    "    abundant_num_list = []\n",
    "    for num in range(1, to_num+1):\n",
    "        if sum_list(genprop_divs(num)) > num:\n",
    "            abundant_num_list.append(num)\n",
    "    return abundant_num_list\n",
    "        \n",
    "def gen_abund_sumnum_list(to_num):\n",
    "     #returns a list of numbers that are sums of abundant numbers\n",
    "    abundant_sum_num_list = []\n",
    "    from_list = gen_abund_num_list(to_num)\n",
    "    anumlist_len = len(from_list)\n",
    "    for i,j in enumerate(from_list):\n",
    "        for k in range(i, anumlist_len):\n",
    "            list_sum = j+from_list[k]\n",
    "            abundant_sum_num_list.append(list_sum)\n",
    "    return sorted(list(set(abundant_sum_num_list)))\n",
    "                                     \n",
    "def get_answer(stop_num):\n",
    "    #returns the sum of all the positive integers (less than stop_num)\n",
    "    #which cannot be written as the sum of two abundant numbers\n",
    "    a = gen_abund_sumnum_list(stop_num)\n",
    "    b = list(range(1, stop_num+1))\n",
    "    c = list(set(b).difference(a))\n",
    "    return sum_list(c)\n",
    "\n",
    "print(get_answer(20162))\n"
   ]
  },
  {
   "cell_type": "markdown",
   "metadata": {
    "collapsed": true
   },
   "source": [
    "1000-DIGIT FIBONACCI NUMBER     Problem 25\n",
    "\n",
    "The Fibonacci sequence is defined by the recurrence relation:\n",
    "\n",
    "    Fn = Fn−1 + Fn−2, where F1 = 1 and F2 = 1.\n",
    "\n",
    "Hence the first 12 terms will be:\n",
    "\n",
    "    F1 = 1\n",
    "    F2 = 1\n",
    "    F3 = 2\n",
    "    F4 = 3\n",
    "    F5 = 5\n",
    "    F6 = 8\n",
    "    F7 = 13\n",
    "    F8 = 21\n",
    "    F9 = 34\n",
    "    F10 = 55\n",
    "    F11 = 89\n",
    "    F12 = 144\n",
    "\n",
    "The 12th term, F12, is the first term to contain three digits.\n",
    "    \n",
    "What is the index of the first term in the Fibonacci sequence to contain 1000 digits?"
   ]
  },
  {
   "cell_type": "code",
   "execution_count": 3,
   "metadata": {
    "collapsed": false
   },
   "outputs": [
    {
     "name": "stdout",
     "output_type": "stream",
     "text": [
      "4782\n"
     ]
    }
   ],
   "source": [
    "memo = {0:0, 1:1}\n",
    "\n",
    "def fib(n):\n",
    "    # uses memoization to generate fibonacci numbers\n",
    "    if not n in memo:\n",
    "        memo[n] = fib(n-1) + fib(n-2)\n",
    "    return memo[n]\n",
    "\n",
    "def count_digits(num):\n",
    "    # returns the number of digits in a number\n",
    "    x = str(num)\n",
    "    y = len(x)\n",
    "    return y   \n",
    "\n",
    "x=1\n",
    "for n in range(1, 10000):\n",
    "    if count_digits(fib(n))==1000:\n",
    "        print(n)\n",
    "        break\n"
   ]
  },
  {
   "cell_type": "markdown",
   "metadata": {},
   "source": [
    "RECIPROCAL CYCLES     Problem 26\n",
    "\n",
    "A unit fraction contains 1 in the numerator. The decimal representation of the unit fractions with denominators 2 to 10 are given:\n",
    "\n",
    "    1/2\t= \t0.5\n",
    "    1/3\t= \t0.(3)\n",
    "    1/4\t= \t0.25\n",
    "    1/5\t= \t0.2\n",
    "    1/6\t= \t0.1(6)\n",
    "    1/7\t= \t0.(142857)\n",
    "    1/8\t= \t0.125\n",
    "    1/9\t= \t0.(1)\n",
    "    1/10\t= \t0.1 \n",
    "\n",
    "Where 0.1(6) means 0.166666..., and has a 1-digit recurring cycle. It can be seen that 1/7 has a 6-digit recurring cycle.\n",
    "\n",
    "Find the value of d < 1000 for which 1/d contains the longest recurring cycle in its decimal fraction part."
   ]
  },
  {
   "cell_type": "code",
   "execution_count": 4,
   "metadata": {
    "collapsed": false
   },
   "outputs": [
    {
     "name": "stdout",
     "output_type": "stream",
     "text": [
      "(983, 982)\n"
     ]
    }
   ],
   "source": [
    "from operator import itemgetter\n",
    "\n",
    "def does_not_repeat(num):\n",
    "    #If the prime factorization of the denominator of a fraction \n",
    "    #   has only factors of 2 and factors of 5\n",
    "    #   the decimal expression terminates \n",
    "    if num == 1 or num%2==0 or num%5==0:\n",
    "        return True\n",
    "    \n",
    "def gen_list_nums(to_num):\n",
    "    #If there is any prime factor in the denominator other than 2 or 5\n",
    "    #   then the decimal expression repeats\n",
    "    num_list = [i for i in range(1, to_num) if not does_not_repeat(i)]\n",
    "    return num_list\n",
    "\n",
    "def cycle_length(denom):\n",
    "    remainder = 10\n",
    "    i = 0\n",
    "    while remainder != 10 or i < 1:\n",
    "        remainder = (remainder % denom) * 10\n",
    "        i += 1\n",
    "    return i\n",
    "\n",
    "#generate list of all denominators up to 1000 \n",
    "#   that are not factors of 2 or 5        \n",
    "denom_list = gen_list_nums(1000)\n",
    "\n",
    "#generates a tuple (denominator, period length) \n",
    "#   for all items in the denominator list\n",
    "interval_list = [(i, cycle_length(i)) for i in denom_list]\n",
    "\n",
    "#sorts the list of tuples (denominator, period length)\n",
    "#   in descending order, using itemgetter function\n",
    "answer= sorted(interval_list, key=itemgetter(1), reverse=True)\n",
    "\n",
    "print(answer[0])"
   ]
  },
  {
   "cell_type": "markdown",
   "metadata": {},
   "source": [
    "QUADRATIC PRIMES     Problem 27\n",
    "\n",
    "Euler discovered the remarkable quadratic formula:\n",
    "\n",
    "n² + n + 41\n",
    "\n",
    "It turns out that the formula will produce 40 primes for the consecutive values n = 0 to 39. \n",
    "However, when n = 40, 402 + 40 + 41 = 40(40 + 1) + 41 is divisible by 41, \n",
    "and certainly when n = 41, 41² + 41 + 41 is clearly divisible by 41.\n",
    "\n",
    "The incredible formula  n² − 79n + 1601 was discovered, which produces 80 primes for the \n",
    "consecutive values n = 0 to 79. The product of the coefficients, −79 and 1601, is −126479.\n",
    "\n",
    "Considering quadratics of the form:\n",
    "\n",
    "    n² + an + b, where |a| < 1000 and |b| < 1000\n",
    "\n",
    "    where |n| is the modulus/absolute value of n\n",
    "    e.g. |11| = 11 and |−4| = 4\n",
    "\n",
    "Find the product of the coefficients, a and b, for the quadratic expression that produces \n",
    "the maximum number of primes for consecutive values of n, starting with n = 0."
   ]
  },
  {
   "cell_type": "code",
   "execution_count": null,
   "metadata": {
    "collapsed": false
   },
   "outputs": [],
   "source": [
    "from operator import itemgetter\n",
    "import math \n",
    "def use_formula(a, b, n):\n",
    "    form_value= (n**2) + (a*n) + b\n",
    "    return form_value\n",
    "\n",
    "def is_prime(num):\n",
    "    for i in range(2, int(math.sqrt(abs(num))+1)):\n",
    "        if num%i == 0:\n",
    "            return False\n",
    "    return True\n",
    "\n",
    "combo_list = []\n",
    "for a in range(-1000, 1000):\n",
    "    for b in range(-1000, 1000):\n",
    "        prime_count = 0\n",
    "        for n in range(1, 100):\n",
    "            if is_prime(use_formula(a, b, n)):\n",
    "                prime_count+=1\n",
    "        combo_list.append((a, b, prime_count))\n",
    "                \n",
    "answer= sorted(combo_list, key=itemgetter(2), reverse=True)\n",
    "print(answer[0])\n",
    "a, b, _ = answer[0]\n",
    "print(a*b)"
   ]
  },
  {
   "cell_type": "markdown",
   "metadata": {
    "collapsed": true
   },
   "source": [
    "NUMBER SPIRAL DIAGONALS     Problem 28\n",
    "\n",
    "Starting with the number 1 and moving to the right in a clockwise \n",
    "direction a 5 by 5 spiral is formed as follows:\n",
    "\n",
    "21 22 23 24 25\n",
    "20  7  8  9 10\n",
    "19  6  1  2 11\n",
    "18  5  4  3 12\n",
    "17 16 15 14 13\n",
    "\n",
    "It can be verified that the sum of the numbers on the diagonals is 101.\n",
    "\n",
    "What is the sum of the numbers on the diagonals in a 1001 by 1001 spiral formed in the same way?"
   ]
  },
  {
   "cell_type": "code",
   "execution_count": 7,
   "metadata": {
    "collapsed": false
   },
   "outputs": [],
   "source": [
    "from operator import itemgetter\n",
    "\n",
    "def do_bottom(n, dim, coord_dict):\n",
    "    #create bottom of the spiral\n",
    "    orig_dim = (2 * coord_dict[1][1]) + 1\n",
    "    adj = (orig_dim - dim) // 2\n",
    "    for i in range(0, dim-1):\n",
    "        coord_dict[n-i]= (i+adj, dim+adj-1)\n",
    "    return coord_dict\n",
    "\n",
    "def do_right(n, dim, coord_dict):\n",
    "    #create right of the spiral\n",
    "    orig_dim = (2 * coord_dict[1][1]) + 1\n",
    "    adj = (orig_dim - dim) // 2\n",
    "    for i in range(0, dim-1):\n",
    "        coord_dict[n-i]= (dim+adj-1, dim-i+adj-1)\n",
    "    return coord_dict\n",
    "\n",
    "def do_top(n, dim, coord_dict):\n",
    "    #create top of spiral\n",
    "    orig_dim = (2 * coord_dict[1][1]) + 1\n",
    "    adj = (orig_dim - dim) // 2\n",
    "    for i in range(0, dim-1):\n",
    "        coord_dict[n-i]= (dim-i+adj-1, adj)\n",
    "    return coord_dict\n",
    "\n",
    "def do_left(n, dim, coord_dict):\n",
    "    #create left of spiral\n",
    "    orig_dim = (2 * coord_dict[1][1]) + 1\n",
    "    adj = (orig_dim - dim) // 2\n",
    "    for i in range(0, dim-1):\n",
    "        coord_dict[n-i]= (adj, i+adj)\n",
    "    return coord_dict\n",
    "\n",
    "def create_spiral_coords(dim):\n",
    "    #creates a dictionary of spiral coordinates\n",
    "    coords= {}\n",
    "    coords[1]= (int((dim-1)/2), int((dim-1)/2))\n",
    "    for i in range(1, dim+1, 2):\n",
    "        start_num = i**2\n",
    "        do_top(start_num, i, coords)\n",
    "        start_num = i**2-(i-1)\n",
    "        do_left(start_num, i, coords)\n",
    "        start_num = i**2-2*(i-1)\n",
    "        do_bottom(start_num, i, coords)\n",
    "        start_num = i**2-3*(i-1)\n",
    "        do_right(start_num, i, coords)\n",
    "    return coords\n",
    "\n",
    "def draw_matrix(coord_dict):\n",
    "    #draws the matrix\n",
    "    dim = coord_dict[1][1]*2 +1\n",
    "    my_list = coord_dict.items()\n",
    "    sorted_list = sorted(my_list, key=lambda x: (x[1][1], x[1][0]) )\n",
    "    answer = [k for k, (x, y) in sorted_list]\n",
    "    chunks=[answer[x:x+dim] for x in range(0, len(answer), dim)]\n",
    "    return chunks\n",
    "\n",
    "def add_diags(num_list):\n",
    "    sum_diag = 0\n",
    "    for x in range(0, len(num_list)):\n",
    "        if (num_list[x][x]) == 1:\n",
    "            sum_diag += int(num_list[x][x])\n",
    "        else:\n",
    "            sum_diag += (num_list[x][x]) + (num_list[x][-x-1])\n",
    "    return sum_diag"
   ]
  },
  {
   "cell_type": "code",
   "execution_count": 8,
   "metadata": {
    "collapsed": false
   },
   "outputs": [
    {
     "data": {
      "text/plain": [
       "669171001"
      ]
     },
     "execution_count": 8,
     "metadata": {},
     "output_type": "execute_result"
    }
   ],
   "source": [
    "coord_dict = create_spiral_coords(1001)\n",
    "my_list = draw_matrix(coord_dict)\n",
    "add_diags(my_list)"
   ]
  },
  {
   "cell_type": "markdown",
   "metadata": {},
   "source": [
    "DISTINCT POWERS     Problem 29\n",
    "\n",
    "Consider all integer combinations of a^b for 2 ≤ a ≤ 5 and 2 ≤ b ≤ 5:\n",
    "\n",
    "    2^2 = 4, 2^3 = 8, 2^4 = 16, 2^5 = 32\n",
    "    3^2 = 9, 3^3= 27, 3^4 = 81, 3^5 = 243\n",
    "    4^2 = 16, 4^3= 64, 4^4 = 256, 4^5 = 1024\n",
    "    5^2 = 25, 5^3= 125, 5^4 = 625, 5^5 = 3125\n",
    "\n",
    "If they are then placed in numerical order, with any repeats removed, we get the following sequence of 15 distinct terms:\n",
    "\n",
    "4, 8, 9, 16, 25, 27, 32, 64, 81, 125, 243, 256, 625, 1024, 3125\n",
    "\n",
    "How many distinct terms are in the sequence generated by a^b for 2 ≤ a ≤ 100 and 2 ≤ b ≤ 100?"
   ]
  },
  {
   "cell_type": "code",
   "execution_count": 9,
   "metadata": {
    "collapsed": false
   },
   "outputs": [
    {
     "data": {
      "text/plain": [
       "9183"
      ]
     },
     "execution_count": 9,
     "metadata": {},
     "output_type": "execute_result"
    }
   ],
   "source": [
    "import math\n",
    "from operator import itemgetter\n",
    "\n",
    "def gen_pow_list(a_start, a_end, b_start, b_end):\n",
    "    # generate a list of tuples [(a, b, a^b)]\n",
    "    pow_list = []\n",
    "    for a in range(a_start, a_end+1):\n",
    "        for b in range(b_start, b_end+1):\n",
    "            a_pow_b = int(math.pow(a, b))\n",
    "            pow_list.append((a, b, a_pow_b))\n",
    "    return pow_list\n",
    "\n",
    "def sort_tuples_in(num_list):\n",
    "    #sort the list of tuples by last element-- a^b\n",
    "    #then return only the a^b values in a new list\n",
    "    sorted_list = sorted(num_list, key=lambda x: (x[2], x[0]) )\n",
    "    answer = [z for (x, y, z) in sorted_list]\n",
    "    return answer\n",
    "\n",
    "def remove_dupes_in(num_list):   \n",
    "    #remove duplicates in list\n",
    "    #then return the new list, sorted\n",
    "    set_nums = set(num_list)\n",
    "    return sorted(list(set_nums))\n",
    "\n",
    "test_list = gen_pow_list(2, 100, 2, 100)\n",
    "sort_list = sort_tuples_in(test_list)\n",
    "len(remove_dupes_in(sort_list))"
   ]
  },
  {
   "cell_type": "markdown",
   "metadata": {},
   "source": [
    "LEXICOGRAPHIC PERMUTATIONS     Problem 24\n",
    "\n",
    "A permutation is an ordered arrangement of objects. \n",
    "For example, 3124 is one possible permutation of the digits 1, 2, 3 and 4. \n",
    "If all of the permutations are listed numerically or alphabetically, we call it lexicographic order. \n",
    "The lexicographic permutations of 0, 1 and 2 are:\n",
    "\n",
    "012   021   102   120   201   210\n",
    "\n",
    "What is the millionth lexicographic permutation of the digits 0, 1, 2, 3, 4, 5, 6, 7, 8 and 9?"
   ]
  },
  {
   "cell_type": "code",
   "execution_count": 10,
   "metadata": {
    "collapsed": false
   },
   "outputs": [
    {
     "data": {
      "text/plain": [
       "2783915460"
      ]
     },
     "execution_count": 10,
     "metadata": {},
     "output_type": "execute_result"
    }
   ],
   "source": [
    "from itertools import permutations\n",
    "\n",
    "def gen_perms(num):\n",
    "    #returns list of permutations of the digits of num\n",
    "    num_string=str(num)\n",
    "    perms = [''.join(p) for p in permutations(num_string)]\n",
    "    return perms\n",
    "\n",
    "a=1234567890\n",
    "answer = (sorted(gen_perms(a)))\n",
    "\n",
    "int(answer[999999])"
   ]
  },
  {
   "cell_type": "markdown",
   "metadata": {},
   "source": [
    "DIGIT FIFTH POWERS     Problem 30\n",
    "\n",
    "Surprisingly there are only three numbers that can be written as the sum of fourth powers of their digits:\n",
    "\n",
    "    1634 = 1^4 + 6^4 + 3^4 + 4^4\n",
    "    8208 = 8^4 + 2^4 + 0^4 + 8^4\n",
    "    9474 = 9^4 + 4^4 + 7^4 + 4^4\n",
    "\n",
    "As 1 = 1^4 is not a sum it is not included.\n",
    "\n",
    "The sum of these numbers is 1634 + 8208 + 9474 = 19316.\n",
    "\n",
    "Find the sum of all the numbers that can be written as the sum of fifth powers of their digits."
   ]
  },
  {
   "cell_type": "code",
   "execution_count": 11,
   "metadata": {
    "collapsed": false
   },
   "outputs": [
    {
     "name": "stdout",
     "output_type": "stream",
     "text": [
      "[4150, 4151, 54748, 92727, 93084, 194979]\n",
      "443839\n"
     ]
    }
   ],
   "source": [
    "import math\n",
    "\n",
    "def is_dig_5pows(num):\n",
    "    # can the number be written as the sum of fifth powers of all of its digits?\n",
    "    num_string=str(num)\n",
    "    digs = list(num_string)\n",
    "    sum_digs = 0\n",
    "    for dig in digs:\n",
    "        sum_digs += int(math.pow(int(dig), 5))\n",
    "    if sum_digs == num:\n",
    "        return True\n",
    "    else:\n",
    "        return False\n",
    "    \n",
    "#find numbers that can be written as the sum of fifth powers of their digits\n",
    "dig5pow_list = [i for i in range (1000000) if is_dig_5pows(i) and i not in (0, 1)]\n",
    "\n",
    "print(dig5pow_list)\n",
    "print (sum(dig5pow_list))"
   ]
  },
  {
   "cell_type": "markdown",
   "metadata": {},
   "source": [
    "COIN SUMS     Problem 31\n",
    "\n",
    "In England the currency is made up of pound, £, and pence, p, and there are eight coins in general circulation:\n",
    "\n",
    "    1p, 2p, 5p, 10p, 20p, 50p, £1 (100p) and £2 (200p).\n",
    "\n",
    "It is possible to make £2 in the following way:\n",
    "\n",
    "    1×£1 + 1×50p + 2×20p + 1×5p + 1×2p + 3×1p\n",
    "\n",
    "How many different ways can £2 be made using any number of coins?"
   ]
  },
  {
   "cell_type": "code",
   "execution_count": 12,
   "metadata": {
    "collapsed": false
   },
   "outputs": [
    {
     "data": {
      "text/plain": [
       "73682"
      ]
     },
     "execution_count": 12,
     "metadata": {},
     "output_type": "execute_result"
    }
   ],
   "source": [
    "USdenoms = [1, 5, 10, 25, 50, 100]\n",
    "UKdenoms = [1, 2, 5, 10, 20, 50, 100, 200]\n",
    "\n",
    "#recursive\n",
    "def gen_change_rec(amount, coins):\n",
    "    if amount < 0:\n",
    "        return 0\n",
    "    if amount == 0:\n",
    "        return 1\n",
    "    if not coins:\n",
    "        return 0\n",
    "    return gen_change_rec(amount - coins[0], coins) + gen_change_rec(amount, coins[1:])\n",
    "\n",
    "gen_change_rec(200, UKdenoms)"
   ]
  },
  {
   "cell_type": "code",
   "execution_count": 13,
   "metadata": {
    "collapsed": false
   },
   "outputs": [
    {
     "data": {
      "text/plain": [
       "73682"
      ]
     },
     "execution_count": 13,
     "metadata": {},
     "output_type": "execute_result"
    }
   ],
   "source": [
    "#dynamic programming\n",
    "def gen_change_dp(amount, coins):\n",
    "    ways = [1]+[0]*amount\n",
    "    for coin in coins:\n",
    "        for i in range(coin, amount+1):\n",
    "            ways[i]+=ways[i-coin]\n",
    "    return(ways[amount])\n",
    "\n",
    "gen_change_dp(200, UKdenoms)"
   ]
  },
  {
   "cell_type": "markdown",
   "metadata": {},
   "source": [
    "PANDIGITAL PRODUCTS     Problem 32\n",
    "\n",
    "We shall say that an n-digit number is pandigital if it makes use of all the digits 1 to n exactly once; \n",
    "for example, the 5-digit number, 15234, is 1 through 5 pandigital.\n",
    "\n",
    "The product 7254 is unusual, as the identity, 39 × 186 = 7254, containing multiplicand, multiplier, \n",
    "and product is 1 through 9 pandigital.\n",
    "\n",
    "Find the sum of all products whose multiplicand/multiplier/product identity can be written as a 1 through 9 pandigital.\n",
    "HINT: Some products can be obtained in more than one way so be sure to only include it once in your sum.\n"
   ]
  },
  {
   "cell_type": "code",
   "execution_count": 14,
   "metadata": {
    "collapsed": false
   },
   "outputs": [],
   "source": [
    "import itertools\n",
    "\n",
    "def make_int(num_list):\n",
    "    #turn a list of numbers into an integer\n",
    "    return int(''.join(map(str, num_list)))\n",
    "\n",
    "def is_pandigital(a, b, c):\n",
    "    # do a, b, c make use of all the digits 1 to n exactly once?\n",
    "    digits_a = (list(str(a)))\n",
    "    digits_b = (list(str(b)))\n",
    "    digits_c = (list(str(c)))\n",
    "    all_nums= [str(n) for n in range(1, 10)]\n",
    "    abc_digits = digits_a + digits_b + digits_c\n",
    "    #does abc_digits have all digits 0 to 9, and is it 10 digits long?\n",
    "    return set(abc_digits) == set(all_nums) and len(abc_digits) == len(all_nums)\n",
    "\n",
    "#creates a list of numbers from 1 to 9\n",
    "all_nums_19= [n for n in range(1, 10)]\n",
    "\n",
    "#creates a list of all possible 5 digit permutations of 1 to 9\n",
    "test_list = (list(itertools.permutations(all_nums_19, 5)))\n",
    "\n",
    "ans_list = []\n",
    "for a in test_list:\n",
    "    first2_num = make_int(a[:2]) \n",
    "    after2_num = make_int(a[2:])\n",
    "    product2= first2_num*after2_num\n",
    "    if is_pandigital(first2_num, after2_num, product2):\n",
    "        ans_list.append((first2_num, after2_num, product2))\n",
    "    first1_num = make_int(a[:1]) \n",
    "    after1_num = make_int(a[1:])\n",
    "    product1= first1_num * after1_num\n",
    "    if is_pandigital(first1_num, after1_num, product1):\n",
    "        ans_list.append((first1_num, after1_num, product1))"
   ]
  },
  {
   "cell_type": "code",
   "execution_count": 15,
   "metadata": {
    "collapsed": false
   },
   "outputs": [
    {
     "name": "stdout",
     "output_type": "stream",
     "text": [
      "45228\n"
     ]
    }
   ],
   "source": [
    "# get all the product values (k[2]) in the list of answer tuples\n",
    "# then turn it into a set to remove any duplicate values\n",
    "# then turn it back into a list, and sum it\n",
    "answer = sum(list(set([k[2] for k in ans_list])))\n",
    "\n",
    "print(answer)"
   ]
  },
  {
   "cell_type": "code",
   "execution_count": 16,
   "metadata": {
    "collapsed": false
   },
   "outputs": [
    {
     "data": {
      "text/plain": [
       "[(12, 483, 5796),\n",
       " (18, 297, 5346),\n",
       " (27, 198, 5346),\n",
       " (28, 157, 4396),\n",
       " (39, 186, 7254),\n",
       " (4, 1738, 6952),\n",
       " (4, 1963, 7852),\n",
       " (42, 138, 5796),\n",
       " (48, 159, 7632)]"
      ]
     },
     "execution_count": 16,
     "metadata": {},
     "output_type": "execute_result"
    }
   ],
   "source": [
    "(ans_list)"
   ]
  },
  {
   "cell_type": "markdown",
   "metadata": {},
   "source": [
    "DIGIT CANCELLING FRACTIONS  Problem 33\n",
    "\n",
    "The fraction 49/98 is a curious fraction, as an inexperienced mathematician in attempting to simplify it may incorrectly believe that 49/98 = 4/8, which is correct, is obtained by cancelling the 9s.\n",
    "\n",
    "We shall consider fractions like, 30/50 = 3/5, to be trivial examples.\n",
    "\n",
    "There are exactly four non-trivial examples of this type of fraction, less than one in value, and containing two digits in the numerator and denominator.\n",
    "\n",
    "If the product of these four fractions is given in its lowest common terms, find the value of the denominator."
   ]
  },
  {
   "cell_type": "code",
   "execution_count": 17,
   "metadata": {
    "collapsed": true
   },
   "outputs": [],
   "source": [
    "def a_common_element(list_a, list_b):\n",
    "    #returns list of values in both list_a and list_b\n",
    "    common_list = [value for value in list_a if value in list_b]\n",
    "    if len(common_list) == 1:\n",
    "        return common_list[0]\n",
    "    return False"
   ]
  },
  {
   "cell_type": "code",
   "execution_count": 18,
   "metadata": {
    "collapsed": false
   },
   "outputs": [
    {
     "name": "stdout",
     "output_type": "stream",
     "text": [
      "[[16, 64], [19, 95], [26, 65], [49, 98]]\n"
     ]
    },
    {
     "data": {
      "text/plain": [
       "0.010000000000000002"
      ]
     },
     "execution_count": 18,
     "metadata": {},
     "output_type": "execute_result"
    }
   ],
   "source": [
    "answer_list = []\n",
    "for numerator in range(10, 100):\n",
    "    for denominator in range(numerator+1, 100):\n",
    "        # Division will strip off the first digit\n",
    "        # Modulus will strip off the 0th digit\n",
    "        n_digits = sorted([int(numerator/10), numerator % 10])           \n",
    "        d_digits = sorted([int(denominator/10), denominator % 10])\n",
    "        common = a_common_element(n_digits, d_digits)\n",
    "        if common:\n",
    "            n_digits.remove(common)\n",
    "            d_digits.remove(common)\n",
    "            n_rem = n_digits[0]\n",
    "            d_rem = d_digits[0]\n",
    "            if 0 not in n_digits and 0 not in d_digits:\n",
    "                if float(numerator) / denominator == float(n_rem) / d_rem:\n",
    "                    answer_list.append([numerator, denominator])   \n",
    "\n",
    "print(answer_list)\n",
    "\n",
    "answer = [a/b for a, b in answer_list]\n",
    "\n",
    "from functools import reduce\n",
    "reduce(lambda x, y: x*y, answer)"
   ]
  },
  {
   "cell_type": "markdown",
   "metadata": {},
   "source": [
    "DIGIT FACTORIALS     Problem 34\n",
    "\n",
    "145 is a curious number, as 1! + 4! + 5! = 1 + 24 + 120 = 145.\n",
    "\n",
    "Find the sum of all numbers which are equal to the sum of the factorial of their digits.\n",
    "\n",
    "Note: as 1! = 1 and 2! = 2 are not sums they are not included."
   ]
  },
  {
   "cell_type": "code",
   "execution_count": 19,
   "metadata": {
    "collapsed": false
   },
   "outputs": [
    {
     "data": {
      "text/plain": [
       "40730"
      ]
     },
     "execution_count": 19,
     "metadata": {},
     "output_type": "execute_result"
    }
   ],
   "source": [
    "table = {0: 1} \n",
    "\n",
    "answer_list = []\n",
    "\n",
    "def factorial(number):\n",
    "    if number in table:\n",
    "        return table[number] # Input found in the look-up table, returning stored value.\n",
    "    else:\n",
    "        result = factorial(number - 1) * number\n",
    "        table[number] = result # Inserting newly calculated value into new table.\n",
    "        return result\n",
    "    \n",
    "def get_digit_factorial(num):\n",
    "    #returns sum of the factorials of each of num's digits\n",
    "    digit_list = list(str(num))\n",
    "    factorial_digit_list = [factorial(int(digit)) for digit in digit_list]\n",
    "    return sum(factorial_digit_list)\n",
    "    \n",
    "answer_list = [i for i in range(3, 1000000) if get_digit_factorial(i) == i]\n",
    "\n",
    "sum(answer_list)"
   ]
  },
  {
   "cell_type": "code",
   "execution_count": 20,
   "metadata": {
    "collapsed": false
   },
   "outputs": [
    {
     "data": {
      "text/plain": [
       "1814400"
      ]
     },
     "execution_count": 20,
     "metadata": {},
     "output_type": "execute_result"
    }
   ],
   "source": [
    "get_digit_factorial(99999)"
   ]
  },
  {
   "cell_type": "markdown",
   "metadata": {
    "collapsed": true
   },
   "source": [
    "CIRCULAR PRIMES     Problem 35\n",
    "\n",
    "The number, 197, is called a circular prime because all rotations of the digits: 197, 971, and 719, are themselves prime.\n",
    "\n",
    "There are thirteen such primes below 100: 2, 3, 5, 7, 11, 13, 17, 31, 37, 71, 73, 79, and 97.\n",
    "\n",
    "How many circular primes are there below one million?\n"
   ]
  },
  {
   "cell_type": "code",
   "execution_count": 5,
   "metadata": {
    "collapsed": false
   },
   "outputs": [
    {
     "name": "stdout",
     "output_type": "stream",
     "text": [
      "78498\n"
     ]
    }
   ],
   "source": [
    "import math\n",
    "\n",
    "def is_prime(num):\n",
    "    #is it prime?\n",
    "    if num % 2 == 0 and num > 2: \n",
    "        return False\n",
    "    for i in range(3, int(math.sqrt(num)) + 1, 2):\n",
    "        if num % i == 0:\n",
    "            return False\n",
    "    return True\n",
    "\n",
    "def make_int(num_list):\n",
    "    #turns a list of numbers into an integer\n",
    "    return int(''.join(map(str, num_list)))\n",
    "\n",
    "def gen_primes_up_to(num):\n",
    "    #generate primes up to a value (num)\n",
    "    prime_list = [i for i in range(2, num) if is_prime(i)]\n",
    "    return prime_list\n",
    "\n",
    "def rotate(l,n):\n",
    "    #rotates a list of numbers (l) at position (n)\n",
    "    return l[n:] + l[:n]\n",
    "\n",
    "def generate_circ_num_list(num):\n",
    "    #generates list of rotations of num\n",
    "    circ_list = []\n",
    "    num_digits = list(str(num))\n",
    "    circ_list = [make_int(rotate(num_digits, i)) \n",
    "                 for i in range(len(num_digits))]\n",
    "    return circ_list\n",
    "\n",
    "def check_prime_rotations(prime_list):\n",
    "    #are any of the primes rotations of the other?\n",
    "    circ_primes = []\n",
    "    for prime in prime_list:\n",
    "        circ_list_x = generate_circ_num_list(prime)\n",
    "        if set(circ_list_x).issubset(prime_list):\n",
    "            circ_primes.append(circ_list_x)\n",
    "    return circ_primes\n",
    "\n",
    "test_list = gen_primes_up_to(1000000)\n",
    "\n",
    "print(len(test_list))\n",
    "\n",
    "x = check_prime_rotations(test_list)\n",
    "\n",
    "answer = sorted(list(set(sum(x, []))))"
   ]
  },
  {
   "cell_type": "code",
   "execution_count": 6,
   "metadata": {
    "collapsed": false
   },
   "outputs": [
    {
     "name": "stdout",
     "output_type": "stream",
     "text": [
      "[[2], [3], [5], [7], [11, 11], [13, 31], [17, 71], [31, 13], [37, 73], [71, 17], [73, 37], [79, 97], [97, 79], [113, 131, 311], [131, 311, 113], [197, 971, 719], [199, 991, 919], [311, 113, 131], [337, 373, 733], [373, 733, 337], [719, 197, 971], [733, 337, 373], [919, 199, 991], [971, 719, 197], [991, 919, 199], [1193, 1931, 9311, 3119], [1931, 9311, 3119, 1193], [3119, 1193, 1931, 9311], [3779, 7793, 7937, 9377], [7793, 7937, 9377, 3779], [7937, 9377, 3779, 7793], [9311, 3119, 1193, 1931], [9377, 3779, 7793, 7937], [11939, 19391, 93911, 39119, 91193], [19391, 93911, 39119, 91193, 11939], [19937, 99371, 93719, 37199, 71993], [37199, 71993, 19937, 99371, 93719], [39119, 91193, 11939, 19391, 93911], [71993, 19937, 99371, 93719, 37199], [91193, 11939, 19391, 93911, 39119], [93719, 37199, 71993, 19937, 99371], [93911, 39119, 91193, 11939, 19391], [99371, 93719, 37199, 71993, 19937], [193939, 939391, 393919, 939193, 391939, 919393], [199933, 999331, 993319, 933199, 331999, 319993], [319993, 199933, 999331, 993319, 933199, 331999], [331999, 319993, 199933, 999331, 993319, 933199], [391939, 919393, 193939, 939391, 393919, 939193], [393919, 939193, 391939, 919393, 193939, 939391], [919393, 193939, 939391, 393919, 939193, 391939], [933199, 331999, 319993, 199933, 999331, 993319], [939193, 391939, 919393, 193939, 939391, 393919], [939391, 393919, 939193, 391939, 919393, 193939], [993319, 933199, 331999, 319993, 199933, 999331], [999331, 993319, 933199, 331999, 319993, 199933]]\n",
      "[2, 3, 5, 7, 11, 13, 17, 31, 37, 71, 73, 79, 97, 113, 131, 197, 199, 311, 337, 373, 719, 733, 919, 971, 991, 1193, 1931, 3119, 3779, 7793, 7937, 9311, 9377, 11939, 19391, 19937, 37199, 39119, 71993, 91193, 93719, 93911, 99371, 193939, 199933, 319993, 331999, 391939, 393919, 919393, 933199, 939193, 939391, 993319, 999331]\n",
      "55\n"
     ]
    }
   ],
   "source": [
    "print(x)\n",
    "print(answer)\n",
    "print(len(answer))"
   ]
  },
  {
   "cell_type": "markdown",
   "metadata": {},
   "source": [
    "DOUBLE-BASE PALINDROMES     Problem 36\n",
    "\n",
    "The decimal number, 585 = 1001001001(base2) (binary), is palindromic in both bases.\n",
    "\n",
    "Find the sum of all numbers, less than one million, which are palindromic in base 10 and base 2.\n",
    "\n",
    "(Please note that the palindromic number, in either base, may not include leading zeros.)\n"
   ]
  },
  {
   "cell_type": "code",
   "execution_count": null,
   "metadata": {
    "collapsed": false
   },
   "outputs": [],
   "source": [
    "def dec_to_bin(x):\n",
    "    #converts decimal to binary\n",
    "    return int(bin(x)[2:])\n",
    "\n",
    "def is_palindromic(num):\n",
    "    #is num palindromic?\n",
    "    num_digits = list(str(num))\n",
    "    if num_digits[::-1] == num_digits:\n",
    "        return True\n",
    "    return False\n",
    "        \n",
    "double_base_palindromes = [i for i in range(1, 1000000) if is_palindromic(i) & is_palindromic(dec_to_bin(i))]\n",
    "\n",
    "sum(double_base_palindromes)"
   ]
  },
  {
   "cell_type": "markdown",
   "metadata": {},
   "source": [
    "TRUNCATABLE PRIMES     Problem 37\n",
    "\n",
    "The number 3797 has an interesting property. \n",
    "Being prime itself, it is possible to continuously remove digits from left to right, \n",
    "and remain prime at each stage: 3797, 797, 97, and 7. \n",
    "Similarly we can work from right to left: 3797, 379, 37, and 3.\n",
    "\n",
    "Find the sum of the only eleven primes that are both truncatable from left to right and right to left.\n",
    "\n",
    "NOTE: 2, 3, 5, and 7 are not considered to be truncatable primes.\n"
   ]
  },
  {
   "cell_type": "code",
   "execution_count": null,
   "metadata": {
    "collapsed": false
   },
   "outputs": [],
   "source": [
    "import math\n",
    "\n",
    "def is_prime(num):\n",
    "    #is num prime?\n",
    "    if num == 1:\n",
    "        return False\n",
    "    if num % 2 == 0 and num > 2: \n",
    "        return False\n",
    "    for i in range(3, int(math.sqrt(num)) + 1, 2):\n",
    "        if num % i == 0:\n",
    "            return False\n",
    "    return True\n",
    "\n",
    "def make_int(num_list):\n",
    "    #convert list of numbers into an integer\n",
    "    return int(''.join(map(str, num_list)))\n",
    "\n",
    "def is_trunc_LR(num):\n",
    "    #is num truncatable from left to right?\n",
    "    num_digits = list(str(num)) \n",
    "    if not(is_prime(num)):\n",
    "        return False\n",
    "    for i in range(1, len(num_digits)):\n",
    "        trunc_num = make_int(num_digits[:-i])\n",
    "        #print(trunc_num)\n",
    "        if not(is_prime(trunc_num)):\n",
    "            return False\n",
    "    return True\n",
    "\n",
    "def is_trunc_RL(num):\n",
    "    #is num truncatable from right to left?\n",
    "    num_digits = list(str(num)) \n",
    "    if not(is_prime(num)):\n",
    "        return False\n",
    "    for i in range(1, len(num_digits)):\n",
    "        trunc_num = make_int(num_digits[-i:])\n",
    "        #print(trunc_num)\n",
    "        if not(is_prime(trunc_num)):\n",
    "            return False\n",
    "    return True"
   ]
  },
  {
   "cell_type": "code",
   "execution_count": null,
   "metadata": {
    "collapsed": false
   },
   "outputs": [],
   "source": [
    "answer_list = [i for i in range(11, 1000000) if is_trunc_LR(i) & is_trunc_RL(i)]\n",
    "print(answer_list)\n",
    "print(sum(answer_list))"
   ]
  },
  {
   "cell_type": "markdown",
   "metadata": {},
   "source": [
    "PANDIGITAL MULTIPLES     Problem 38\n",
    "\n",
    "Take the number 192 and multiply it by each of 1, 2, and 3:\n",
    "\n",
    "    192 × 1 = 192\n",
    "    192 × 2 = 384\n",
    "    192 × 3 = 576\n",
    "\n",
    "By concatenating each product we get the 1 to 9 pandigital, 192384576. \n",
    "We will call 192384576 the concatenated product of 192 and (1,2,3)\n",
    "\n",
    "The same can be achieved by starting with 9 and multiplying by 1, 2, 3, 4, and 5, \n",
    "giving the pandigital, 918273645, which is the concatenated product of 9 and (1,2,3,4,5).\n",
    "\n",
    "What is the largest 1 to 9 pandigital 9-digit number that can be formed as the concatenated product \n",
    "of an integer with (1,2, ... , n) where n > 1?"
   ]
  },
  {
   "cell_type": "code",
   "execution_count": null,
   "metadata": {
    "collapsed": false
   },
   "outputs": [],
   "source": [
    "def is_pandigital(num):\n",
    "    #is num pandigital?\n",
    "    num_digits = (list(str(num)))\n",
    "    all_nums= [str(n) for n in range(1, 10)]\n",
    "    return set(num_digits) == set(all_nums) and len(num_digits) == len(all_nums)\n",
    "\n",
    "def gen_pandigital_num(integer):\n",
    "    digit_string = ''\n",
    "    for i in range(1, 10):\n",
    "        digit_string += str(integer * i)\n",
    "        if len(digit_string)>= 9: break\n",
    "    if is_pandigital(int(digit_string)):\n",
    "        return (int(digit_string), integer)\n",
    "\n",
    "pandig_list = [gen_pandigital_num(i) for i in range(1, 10000) if gen_pandigital_num(i) is not None]\n",
    "\n",
    "sorted(pandig_list)"
   ]
  },
  {
   "cell_type": "markdown",
   "metadata": {},
   "source": [
    "INTEGER RIGHT TRIANGLES     Problem 39\n",
    "\n",
    "If p is the perimeter of a right angle triangle with integral length sides, {a,b,c}, \n",
    "there are exactly three solutions for p = 120.\n",
    "\n",
    "{20,48,52}, {24,45,51}, {30,40,50}\n",
    "\n",
    "For which value of p ≤ 1000, is the number of solutions maximised?"
   ]
  },
  {
   "cell_type": "code",
   "execution_count": 7,
   "metadata": {
    "collapsed": false
   },
   "outputs": [
    {
     "name": "stdout",
     "output_type": "stream",
     "text": [
      "840 [(168, 315, 357), (40, 399, 401), (56, 390, 394), (120, 350, 370), (140, 336, 364), (240, 252, 348), (105, 360, 375), (210, 280, 350)]\n"
     ]
    }
   ],
   "source": [
    "import math\n",
    "\n",
    "def gen_right_triangles(perim_num):\n",
    "    #generates list of right triangles with perimeter perim_num\n",
    "    solution_list = []\n",
    "    for a in range(1, perim_num + 1):\n",
    "        for b in range(a + 1, perim_num + 1):\n",
    "            c = perim_num - (a + b)\n",
    "            if a**2 + b**2 == c**2:\n",
    "                solution_list.append((a, b, c))\n",
    "    solutions = set(tuple(sorted(l)) for l in solution_list)\n",
    "    return list(solutions)\n",
    "\n",
    "#if there's a right triangle with the perimeter i, put it in a list of answers\n",
    "answers = [gen_right_triangles(i) for i in range(1000) if gen_right_triangles(i)]\n",
    "\n",
    "#finds the perimeter with the longest list of solutions/possible sides\n",
    "best = max(answers, key=len)\n",
    "perimeter = sum(best[0])\n",
    "\n",
    "print(perimeter, best)"
   ]
  },
  {
   "cell_type": "markdown",
   "metadata": {},
   "source": [
    "CHAMPERNOWNE'S CONSTANT     Problem 40\n",
    "\n",
    "An irrational decimal fraction is created by concatenating the positive integers:\n",
    "\n",
    "0.123456789101112131415161718192021...\n",
    "\n",
    "It can be seen that the 12th digit of the fractional part is 1.\n",
    "\n",
    "If dn represents the nth digit of the fractional part, find the value of the following expression.\n",
    "\n",
    "d1 × d10 × d100 × d1000 × d10000 × d100000 × d1000000\n"
   ]
  },
  {
   "cell_type": "code",
   "execution_count": 8,
   "metadata": {
    "collapsed": false
   },
   "outputs": [
    {
     "data": {
      "text/plain": [
       "210"
      ]
     },
     "execution_count": 8,
     "metadata": {},
     "output_type": "execute_result"
    }
   ],
   "source": [
    "import math\n",
    "import functools\n",
    "def gen_champ_num(upto_num):\n",
    "    #generates a number that contatenates positive integers up to upto_num\n",
    "    digit_string = '0'\n",
    "    for i in range(1, upto_num + 1):\n",
    "        digit_string += str(i)\n",
    "    return digit_string\n",
    "\n",
    "x = gen_champ_num(100000)\n",
    "\n",
    "#gets digits 1, 10, 100, 1000, 10000, 10000, 1000000\n",
    "ans_list = [x[int(math.pow(10, i))] for i in range(6)]\n",
    "\n",
    "#then multiplies them together\n",
    "functools.reduce(lambda x, y: int(x)*int(y), ans_list)"
   ]
  },
  {
   "cell_type": "markdown",
   "metadata": {},
   "source": [
    "PANDIGITAL PRIME     Problem 41\n",
    "\n",
    "We shall say that an n-digit number is pandigital if it makes use of all the digits \n",
    "1 to n exactly once. \n",
    "For example, 2143 is a 4-digit pandigital and is also prime.\n",
    "\n",
    "What is the largest n-digit pandigital prime that exists?"
   ]
  },
  {
   "cell_type": "code",
   "execution_count": null,
   "metadata": {
    "collapsed": false
   },
   "outputs": [],
   "source": [
    "import math\n",
    "import itertools\n",
    "\n",
    "def make_int(num_list):\n",
    "    #joins a list of numbers together into an integer\n",
    "    return int(''.join(map(str, num_list)))\n",
    "\n",
    "def gen_panditals(num):\n",
    "    #generates all numbers that have digits 1 to num exactly once\n",
    "    all_nums= [str(n) for n in range(1, num +1)]\n",
    "    perms_list = list(itertools.permutations(all_nums))\n",
    "    perm_int_list = [make_int(element) for element in perms_list]\n",
    "    return perm_int_list\n",
    "\n",
    "def is_prime(num):\n",
    "    #is it prime?\n",
    "    if num % 2 == 0 and num > 2: \n",
    "        return False\n",
    "    for i in range(3, int(math.sqrt(num)) + 1, 2):\n",
    "        if num % i == 0:\n",
    "            return False\n",
    "    return True\n",
    "\n",
    "ans_list = [gen_panditals(i) for i in range(4, 9)]\n",
    "all_pandigs = sorted(list(set(sum(ans_list, []))))\n",
    "\n",
    "#returns the largest pandigital number that's also prime\n",
    "max([i for i in all_pandigs if is_prime(i)])"
   ]
  },
  {
   "cell_type": "markdown",
   "metadata": {
    "collapsed": true
   },
   "source": [
    "SUB-STRING DIVISIBILITY     Problem 43\n",
    "\n",
    "The number, 1406357289, is a 0 to 9 pandigital number because it is made up of each \n",
    "of the digits 0 to 9 in some order, but it also has a rather interesting \n",
    "sub-string divisibility property.\n",
    "\n",
    "Let d1 be the 1st digit, d2 be the 2nd digit, and so on. In this way, we note the following:\n",
    "\n",
    "    d2d3d4=406 is divisible by 2\n",
    "    d3d4d5=063 is divisible by 3\n",
    "    d4d5d6=635 is divisible by 5\n",
    "    d5d6d7=357 is divisible by 7\n",
    "    d6d7d8=572 is divisible by 11\n",
    "    d7d8d9=728 is divisible by 13\n",
    "    d8d9d10=289 is divisible by 17\n",
    "\n",
    "Find the sum of all 0 to 9 pandigital numbers with this property."
   ]
  },
  {
   "cell_type": "code",
   "execution_count": null,
   "metadata": {
    "collapsed": false
   },
   "outputs": [],
   "source": [
    "import math\n",
    "import itertools\n",
    "\n",
    "def make_int(num_list):\n",
    "    #joins a list of numbers together into an integer\n",
    "    return int(''.join(map(str, num_list)))\n",
    "\n",
    "def gen_panditals(num):\n",
    "    #generates all numbers that have digits 1 to num exactly once\n",
    "    all_nums= [str(n) for n in range(0, num +1)]\n",
    "    perms_list = list(itertools.permutations(all_nums))\n",
    "    perm_int_list = [make_int(element) for element in perms_list]\n",
    "    return perm_int_list\n",
    "\n",
    "def is_substr_divis(num):\n",
    "    #is each substring of num divisible by all the primes in primes_list?\n",
    "    primes_list = [2, 3, 5, 7, 11, 13, 17]\n",
    "    num_digits = (str(num))\n",
    "    num_len = len(num_digits)\n",
    "    if num_len != 10:\n",
    "        return False\n",
    "    else:\n",
    "        test_list = [int(num_digits[i:i+3]) for i in range(1, num_len-2)]\n",
    "        return all(a % b == 0 for (a,b) in zip(test_list, primes_list))\n",
    "\n",
    "ans_list = gen_panditals(9)\n",
    "\n",
    "sub_string=[i for i in ans_list if is_substr_divis(i)]\n",
    "\n",
    "sum(sub_string)"
   ]
  },
  {
   "cell_type": "markdown",
   "metadata": {},
   "source": [
    "PENTAGON NUMBERS     Problem 44\n",
    "\n",
    "Pentagonal numbers are generated by the formula, Pn=n(3n−1)/2. \n",
    "The first ten pentagonal numbers are:\n",
    "\n",
    "1, 5, 12, 22, 35, 51, 70, 92, 117, 145, ...\n",
    "\n",
    "It can be seen that P4 + P7 = 22 + 70 = 92 = P8. \n",
    "However, their difference, 70 − 22 = 48, is not pentagonal.\n",
    "\n",
    "Find the pair of pentagonal numbers, Pj and Pk, \n",
    "for which their sum and difference are pentagonal and D = |Pk − Pj| \n",
    "is minimised; what is the value of D?"
   ]
  },
  {
   "cell_type": "code",
   "execution_count": null,
   "metadata": {
    "collapsed": false
   },
   "outputs": [],
   "source": [
    "import itertools\n",
    "import operator\n",
    "\n",
    "def gen_pentagonal(num):\n",
    "    #generates num(th) pentagonal number\n",
    "    p_num = num * (3*num - 1) / 2\n",
    "    return int(p_num)\n",
    "\n",
    "def pents_sum_n_diffs(nums_list):\n",
    "    #if sums and differences between two nums is pentagonal, what's the absolute value?\n",
    "    pentagonals = set(nums_list)\n",
    "    c = itertools.combinations(pentagonals, 2)\n",
    "    for p in c:\n",
    "        if operator.add(*p) in pentagonals and abs(operator.sub(*p)) in pentagonals:\n",
    "            return (abs(operator.sub(*p))), p\n",
    "\n",
    "pentag_list = [gen_pentagonal(i) for i in range(1, 4000)]\n",
    "\n",
    "x = pents_sum_n_diffs(pentag_list)\n",
    "print(x)"
   ]
  },
  {
   "cell_type": "markdown",
   "metadata": {},
   "source": [
    "TRIANGULAR, PENTAGONAL, AND HEXAGONAL     Problem 45\n",
    "\n",
    "Triangle, pentagonal, and hexagonal numbers are generated by the following formulae:\n",
    "Triangle \tTn=n(n+1)/2 \t  \t1, 3, 6, 10, 15, ...\n",
    "Pentagonal \tPn=n(3n−1)/2 \t  \t1, 5, 12, 22, 35, ...\n",
    "Hexagonal \tHn=n(2n−1) \t  \t1, 6, 15, 28, 45, ...\n",
    "\n",
    "It can be verified that T285 = P165 = H143 = 40755.\n",
    "\n",
    "Find the next triangle number that is also pentagonal and hexagonal.\n"
   ]
  },
  {
   "cell_type": "code",
   "execution_count": null,
   "metadata": {
    "collapsed": false
   },
   "outputs": [],
   "source": [
    "def gen_triangle(num):\n",
    "    t_num = num * (num + 1) / 2\n",
    "    return int(t_num)\n",
    "\n",
    "def gen_pentagonal(num):\n",
    "    p_num = num * (3*num - 1) / 2\n",
    "    return int(p_num)\n",
    "\n",
    "def gen_hexagonal(num):\n",
    "    h_num = num * ((2* num ) - 1)\n",
    "    return h_num\n",
    "\n",
    "def get_answer(x_list, y_list, z_list):\n",
    "    x = set(x_list)\n",
    "    y = set(y_list)\n",
    "    z = set(z_list)\n",
    "    return x & y & z\n",
    "\n",
    "triangs_list = [gen_triangle(i) for i in range(1, 100000)]\n",
    "pentags_list= [gen_pentagonal(i) for i in range(1, 100000)]\n",
    "hexags_list = [gen_hexagonal(i) for i in range(1, 100000)]\n",
    "\n",
    "get_answer(triangs_list, pentags_list, hexags_list)"
   ]
  },
  {
   "cell_type": "markdown",
   "metadata": {},
   "source": [
    "GOLDBACH'S OTHER CONJECTURE     Problem 46\n",
    "\n",
    "It was proposed by Christian Goldbach that every odd composite number \n",
    "can be written as the sum of a prime and twice a square.\n",
    "\n",
    "9 = 7 + 2×1^2\n",
    "\n",
    "15 = 7 + 2×2^2\n",
    "\n",
    "21 = 3 + 2×3^2\n",
    "\n",
    "25 = 7 + 2×3^2\n",
    "\n",
    "27 = 19 + 2×2^2\n",
    "\n",
    "33 = 31 + 2×1^2\n",
    "\n",
    "It turns out that the conjecture was false.\n",
    "\n",
    "What is the smallest odd composite that cannot be written as the sum\n",
    "of a prime and twice a square?"
   ]
  },
  {
   "cell_type": "code",
   "execution_count": null,
   "metadata": {
    "collapsed": false
   },
   "outputs": [],
   "source": [
    "import math\n",
    "\n",
    "def is_prime(num):\n",
    "    if num % 2 == 0 and num > 2: \n",
    "        return False\n",
    "    for i in range(3, int(math.sqrt(num)) + 1, 2):\n",
    "        if num % i == 0:\n",
    "            return False\n",
    "    return True\n",
    "\n",
    "def gen_odd_composites(upto_num):\n",
    "    list_of_odds = [(2*i) + 1 for i in range(0, upto_num)]\n",
    "    list_of_primes = [i for i in range(0, upto_num) if is_prime(i)]\n",
    "    x = set(list_of_odds)\n",
    "    odd_comps = x.difference(list_of_primes)\n",
    "    return list(odd_comps)\n",
    "\n",
    "def is_prime_plus_2sq(num):\n",
    "    for i in range(1, int(math.sqrt(num/2)) + 1):\n",
    "        if is_prime(num - 2*(i**2)):\n",
    "            return True\n",
    "    else:\n",
    "        return False\n",
    "\n",
    "oddcomps_list = gen_odd_composites(5150)\n",
    "\n",
    "[i for i in oddcomps_list if not is_prime_plus_2sq(i)]"
   ]
  },
  {
   "cell_type": "markdown",
   "metadata": {},
   "source": [
    "DISTINCT PRIMES FACTORS     Problem 47\n",
    "\n",
    "The first two consecutive numbers to have two distinct prime factors are:\n",
    "\n",
    "14 = 2 × 7\n",
    "\n",
    "15 = 3 × 5\n",
    "\n",
    "The first three consecutive numbers to have three distinct prime factors are:\n",
    "\n",
    "644 = 2^2 × 7 × 23\n",
    "\n",
    "645 = 3 × 5 × 43\n",
    "\n",
    "646 = 2 × 17 × 19.\n",
    "\n",
    "Find the first four consecutive integers to have four distinct prime factors. \n",
    "What is the first of these numbers?"
   ]
  },
  {
   "cell_type": "code",
   "execution_count": null,
   "metadata": {
    "collapsed": false
   },
   "outputs": [],
   "source": [
    "from sympy.ntheory import factorint\n",
    "\n",
    "def get_factors(n):\n",
    "    f = factorint(n)\n",
    "    return f\n",
    "\n",
    "def four_dist_prime_factors():\n",
    "    counter = 0\n",
    "    for n in range(1000, 1000000):\n",
    "        if counter == 4:\n",
    "            print (\"Answer=\", n - 4)\n",
    "            break\n",
    "        else:\n",
    "            x = get_factors(n)\n",
    "            if len(x) == 4:\n",
    "                counter += 1\n",
    "            else:\n",
    "                counter = 0"
   ]
  },
  {
   "cell_type": "code",
   "execution_count": null,
   "metadata": {
    "collapsed": false
   },
   "outputs": [],
   "source": [
    "four_dist_prime_factors()"
   ]
  },
  {
   "cell_type": "markdown",
   "metadata": {},
   "source": [
    "SELF POWERS     Problem 48\n",
    "\n",
    "The series, 1^1 + 2^2 + 3^3 + ... + 10^10 = 10405071317.\n",
    "\n",
    "Find the last ten digits of the series, 1^1 + 2^2 + 3^3 + ... + 1000^1000."
   ]
  },
  {
   "cell_type": "code",
   "execution_count": null,
   "metadata": {
    "collapsed": false
   },
   "outputs": [],
   "source": [
    "def create_series_num(upto_num):\n",
    "    total = 0\n",
    "    for i in range(1, upto_num +1):\n",
    "        total += i** i\n",
    "    return int(total)\n",
    "\n",
    "def get_last_digits(number, slice_amt):\n",
    "    str_num = str(number)\n",
    "    return int(str_num[-slice_amt:])\n",
    "\n",
    "x = create_series_num(1000)\n",
    "print(get_last_digits(x, 10))"
   ]
  },
  {
   "cell_type": "markdown",
   "metadata": {
    "collapsed": true
   },
   "source": [
    "PRIME PERMUTATIONS     Problem 49\n",
    "\n",
    "The arithmetic sequence, 1487, 4817, 8147, in which each of the terms increases by 3330, is unusual in two ways: \n",
    "    (i) each of the three terms are prime, and, \n",
    "    (ii) each of the 4-digit numbers are permutations of one another.\n",
    "\n",
    "There are no arithmetic sequences made up of three 1-, 2-, or 3-digit primes, exhibiting this property, \n",
    "but there is one other 4-digit increasing sequence.\n",
    "\n",
    "What 12-digit number do you form by concatenating the three terms in this sequence?"
   ]
  },
  {
   "cell_type": "code",
   "execution_count": null,
   "metadata": {
    "collapsed": false
   },
   "outputs": [],
   "source": [
    "from sympy.ntheory.primetest import isprime\n",
    "import collections\n",
    "\n",
    "def is_permutation(a, b):\n",
    "    return collections.Counter(str(a)) == collections.Counter(str(b))\n",
    "\n",
    "def solve_euler49():\n",
    "    n, f = 1487, 1 \t# start search with prime from description\n",
    "    while True:\n",
    "        n += 3-f    # generates prime candidates faster than checking odd numbers\n",
    "        f = -f\n",
    "        b, c = n+3330, n+6660\n",
    "        if isprime(n) and isprime(b) and isprime(c) and is_permutation(n,b) and is_permutation(b,c): \n",
    "                break\n",
    "    print(\"Project Euler 49 Solution =\", str(n)+str(b)+str(c), n, b, c)"
   ]
  },
  {
   "cell_type": "code",
   "execution_count": null,
   "metadata": {
    "collapsed": false
   },
   "outputs": [],
   "source": [
    "solve_euler49()"
   ]
  },
  {
   "cell_type": "markdown",
   "metadata": {
    "collapsed": true
   },
   "source": [
    "CONSECUTIVE PRIME SUM     Problem 50\n",
    "\n",
    "The prime 41, can be written as the sum of six consecutive primes:\n",
    "41 = 2 + 3 + 5 + 7 + 11 + 13\n",
    "\n",
    "This is the longest sum of consecutive primes that adds to a prime below one-hundred.\n",
    "\n",
    "The longest sum of consecutive primes below one-thousand that adds to a prime, contains 21 terms, and is equal to 953.\n",
    "\n",
    "Which prime, below one-million, can be written as the sum of the most consecutive primes?\n"
   ]
  },
  {
   "cell_type": "code",
   "execution_count": null,
   "metadata": {
    "collapsed": false
   },
   "outputs": [],
   "source": [
    "from sympy.ntheory.generate import primerange\n",
    "import itertools\n",
    "from sympy.ntheory.primetest import isprime\n",
    "\n",
    "def primes_list(upto_num):\n",
    "    primes_under_num_list = list(primerange(2, upto_num))\n",
    "    return primes_under_num_list\n",
    "\n",
    "def gen_longest_primesum(under_max):\n",
    "    prime_sum = [0]\n",
    "    for p in primes_list(under_max/100):\n",
    "        prime_sum.append(prime_sum[-1] + p)\n",
    "        if prime_sum[-1] >= L: \n",
    "            break\n",
    "    c = len(prime_sum)\n",
    "    return (prime_sum, c)\n",
    "\n",
    "def gen_best_primesum(prime_sum, c):\n",
    "    terms = 1\n",
    "    for i in range(c):\n",
    "        for j in range(c-1, i+terms, -1):\n",
    "            n = prime_sum[j] - prime_sum[i]\n",
    "            if (j-i > terms and isprime(n)):\n",
    "                terms, max_prime = j-i, n\n",
    "                break\n",
    "    return (terms, max_prime)\n"
   ]
  },
  {
   "cell_type": "code",
   "execution_count": null,
   "metadata": {
    "collapsed": false
   },
   "outputs": [],
   "source": [
    "prime_sum, c = gen_longest_primesum(1000000)"
   ]
  },
  {
   "cell_type": "code",
   "execution_count": null,
   "metadata": {
    "collapsed": false
   },
   "outputs": [],
   "source": [
    "gen_best_primesum(prime_sum, c)"
   ]
  },
  {
   "cell_type": "markdown",
   "metadata": {
    "collapsed": true
   },
   "source": [
    "CODED TRIANGLE NUMBERS     Problem 42\n",
    "\n",
    "The nth term of the sequence of triangle numbers is given by, tn = ½n(n+1); so the first ten triangle numbers are:\n",
    "\n",
    "1, 3, 6, 10, 15, 21, 28, 36, 45, 55, ...\n",
    "\n",
    "By converting each letter in a word to a number corresponding to its alphabetical position \n",
    "and adding these values we form a word value. \n",
    "For example, the word value for SKY is 19 + 11 + 25 = 55 = t10. \n",
    "If the word value is a triangle number then we shall call the word a triangle word.\n",
    "\n",
    "Using words.txt (right click and 'Save Link/Target As...'), a 16K text file containing nearly \n",
    "two-thousand common English words, how many are triangle words?"
   ]
  },
  {
   "cell_type": "code",
   "execution_count": null,
   "metadata": {
    "collapsed": false
   },
   "outputs": [],
   "source": [
    "import string\n",
    "import re\n",
    "\n",
    "def load_file(file_name):\n",
    "    with open(file_name) as f:\n",
    "        words = sorted(re.findall(r'\"(.*?)\"', f.read()))\n",
    "    return words\n",
    "\n",
    "def create_triangle_nums(upto_num):\n",
    "    tri_nums_list = [int((i * (i +1)) / 2) for i in range(0, upto_num + 1) if int((i * (i +1)) / 2) < upto_num]\n",
    "    return tri_nums_list\n",
    "\n",
    "def is_triangle_word(word, tri_nums_list):\n",
    "    word_val = conv_word_to_num(word)\n",
    "    if word_val in tri_nums_list:\n",
    "        return True\n",
    "    else:\n",
    "        return False\n",
    "\n",
    "def conv_word_to_num(word_string):\n",
    "    word_sum = 0\n",
    "    letters = list(word_string)\n",
    "    for letter in letters:\n",
    "        letter_val = get_num_val(letter)\n",
    "        word_sum += letter_val\n",
    "    return word_sum\n",
    "\n",
    "def get_num_val(letter_string):\n",
    "    values = dict()\n",
    "    for index, letter in enumerate(string.ascii_uppercase):\n",
    "        values[letter] = index + 1\n",
    "    return values[letter_string]\n",
    "\n",
    "words_list = load_file(\"/Users/mikeludwig/code/p042_words.txt\")\n",
    "tri_nums = create_triangle_nums(400)\n",
    "answer_list = [word for word in words_list if is_triangle_word(word, tri_nums)]\n",
    "print(answer_list, 'The length is:', len(answer_list))"
   ]
  },
  {
   "cell_type": "markdown",
   "metadata": {},
   "source": [
    "NAMES SCORES     Problem 22\n",
    "\n",
    "Using names.txt (right click and 'Save Link/Target As...'), a 46K text file containing over \n",
    "five-thousand first names, begin by sorting it into alphabetical order. \n",
    "Then working out the alphabetical value for each name, multiply this value by its alphabetical position \n",
    "in the list to obtain a name score.\n",
    "\n",
    "For example, when the list is sorted into alphabetical order, COLIN, \n",
    "which is worth 3 + 15 + 12 + 9 + 14 = 53, is the 938th name in the list. \n",
    "So, COLIN would obtain a score of 938 × 53 = 49714.\n",
    "\n",
    "What is the total of all the name scores in the file?"
   ]
  },
  {
   "cell_type": "code",
   "execution_count": null,
   "metadata": {
    "collapsed": false
   },
   "outputs": [],
   "source": [
    "import string\n",
    "import re\n",
    "\n",
    "def load_file(file_name):\n",
    "    with open(file_name) as f:\n",
    "        words = sorted(re.findall(r'\"(.*?)\"', f.read()))\n",
    "    return words\n",
    "\n",
    "def conv_word_to_num(word_string):\n",
    "    word_sum = 0\n",
    "    letters = list(word_string)\n",
    "    for letter in letters:\n",
    "        letter_val = get_num_val(letter)\n",
    "        word_sum += letter_val\n",
    "    return word_sum\n",
    "\n",
    "def get_num_val(letter_string):\n",
    "    values = dict()\n",
    "    for index, letter in enumerate(string.ascii_uppercase):\n",
    "        values[letter] = index + 1\n",
    "    return values[letter_string]\n",
    "\n",
    "names_list = load_file(\"/Users/mikeludwig/code/p022_names.txt\")\n",
    "sorted_names = sorted(names_list)\n",
    "answer_list = [conv_word_to_num(word) * (index+1) for index, word in enumerate(sorted_names)]\n",
    "print(sum(answer_list))"
   ]
  },
  {
   "cell_type": "markdown",
   "metadata": {},
   "source": [
    "PERMUTED MULTIPLES    Problem 52\n",
    "\n",
    "It can be seen that the number, 125874, and its double, 251748, contain exactly the same digits, \n",
    "but in a different order.\n",
    " \n",
    "Find the smallest positive integer, x, such that 2x, 3x, 4x, 5x, and 6x, contain the same digits."
   ]
  },
  {
   "cell_type": "code",
   "execution_count": null,
   "metadata": {
    "collapsed": false
   },
   "outputs": [],
   "source": [
    "def check_perms(num):\n",
    "    perms_list = [str(num *i) for i in range(2, 7)]\n",
    "    total_digits = (list(itertools.chain(*perms_list)))\n",
    "    num_string = str(num)\n",
    "    num_digits = [(digit) for digit in list(num_string)]\n",
    "    return set(num_digits) == set(total_digits)\n",
    "\n",
    "[i for i in range(100000, 500000) if check_perms(i)]"
   ]
  },
  {
   "cell_type": "markdown",
   "metadata": {},
   "source": [
    "COMBINATORIC SELECTIONS      Problem 53\n",
    "\n",
    "There are exactly ten ways of selecting three from five, 12345:\n",
    "\n",
    "123, 124, 125, 134, 135, 145, 234, 235, 245, and 345\n",
    "\n",
    "In combinatorics, we use the notation, 5C3 = 10.\n",
    "\n",
    "In general,\n",
    "nCr = \tn!/\n",
    "    r!(n−r)!,  where r ≤ n, n! = n×(n−1)×...×3×2×1, and 0! = 1.\n",
    "\n",
    "It is not until n = 23, that a value exceeds one-million: 23C10 = 1144066.\n",
    "\n",
    "How many, not necessarily distinct, values of  nCr, for 1 ≤ n ≤ 100, are greater than one-million?"
   ]
  },
  {
   "cell_type": "code",
   "execution_count": null,
   "metadata": {
    "collapsed": false
   },
   "outputs": [],
   "source": [
    "from sympy import factorial\n",
    "\n",
    "def c_n_r(num, r):\n",
    "    return factorial(num)/(factorial(r)*factorial(num-r))\n",
    "\n",
    "answer_list = []\n",
    "for i in range(1, 101):\n",
    "    for j in range(1, 100):\n",
    "        x = c_n_r(i, j)\n",
    "        if x>1000000:\n",
    "            answer_list.append(x)\n",
    "\n",
    "print(len(answer_list))"
   ]
  },
  {
   "cell_type": "markdown",
   "metadata": {},
   "source": [
    "LYCHREL NUMBERS     Problem 55\n",
    "\n",
    "If we take 47, reverse and add, 47 + 74 = 121, which is palindromic.\n",
    "\n",
    "Not all numbers produce palindromes so quickly. For example,\n",
    "\n",
    "349 + 943 = 1292,\n",
    "1292 + 2921 = 4213\n",
    "4213 + 3124 = 7337\n",
    "\n",
    "That is, 349 took three iterations to arrive at a palindrome.\n",
    "\n",
    "Although no one has proved it yet, it is thought that some numbers, like 196, never produce a palindrome. \n",
    "A number that never forms a palindrome through the reverse and add process is called a Lychrel number. \n",
    "Due to the theoretical nature of these numbers, and for the purpose of this problem, we shall assume \n",
    "that a number is Lychrel until proven otherwise. \n",
    "In addition you are given that for every number below ten-thousand, it will either \n",
    "(i) become a palindrome in less than fifty iterations, or, \n",
    "(ii) no one, with all the computing power that exists, has managed so far to map it to a palindrome. \n",
    "In fact, 10677 is the first number to be shown to require over fifty iterations \n",
    "before producing a palindrome: 4668731596684224866951378664 (53 iterations, 28-digits).\n",
    "\n",
    "Surprisingly, there are palindromic numbers that are themselves Lychrel numbers; the first example is 4994.\n",
    "\n",
    "How many Lychrel numbers are there below ten-thousand?\n",
    "\n",
    "NOTE: Wording was modified slightly on 24 April 2007 to emphasise the theoretical nature of Lychrel numbers.\n"
   ]
  },
  {
   "cell_type": "code",
   "execution_count": null,
   "metadata": {
    "collapsed": false
   },
   "outputs": [],
   "source": [
    "def is_palindrome(num):\n",
    "    return num == reverse_num(num)\n",
    "\n",
    "def reverse_num(num):\n",
    "    num_string = str(num)\n",
    "    rev_num = num_string[::-1]\n",
    "    return int(rev_num)\n",
    "\n",
    "def is_lychrel(num):\n",
    "    iterated = num + reverse_num(num)\n",
    "    for i in range(50):\n",
    "        if not(is_palindrome(iterated)):\n",
    "            iterated += reverse_num(iterated)\n",
    "        else:\n",
    "            return False\n",
    "    return True\n",
    "\n",
    "candidates = [i for i in range(10, 10001) if is_lychrel(i)]\n",
    "len(candidates)"
   ]
  },
  {
   "cell_type": "markdown",
   "metadata": {},
   "source": [
    "POWERFUL DIGIT SUM     Problem 56\n",
    "\n",
    "A googol (10^100) is a massive number: one followed by one-hundred zeros; \n",
    "    100^100 is almost unimaginably large: one followed by two-hundred zeros. \n",
    "        Despite their size, the sum of the digits in each number is only 1.\n",
    "\n",
    "Considering natural numbers of the form, a^b, where a, b < 100, what is the maximum digital sum?\n"
   ]
  },
  {
   "cell_type": "code",
   "execution_count": 1,
   "metadata": {
    "collapsed": false
   },
   "outputs": [
    {
     "data": {
      "text/plain": [
       "972"
      ]
     },
     "execution_count": 1,
     "metadata": {},
     "output_type": "execute_result"
    }
   ],
   "source": [
    "def digit_sum(num):\n",
    "    digits = list(str(num))\n",
    "    dig_nums = [int(digit) for digit in digits]\n",
    "    return sum(dig_nums)\n",
    "\n",
    "def euler56(top_num):\n",
    "    sum_list = []\n",
    "    for a in range(2, top_num):\n",
    "        for b in range(2, top_num):\n",
    "            sum_list.append(digit_sum(a**b))\n",
    "    return max(sum_list)\n",
    "\n",
    "euler56(100)"
   ]
  },
  {
   "cell_type": "markdown",
   "metadata": {
    "collapsed": true
   },
   "source": [
    "SQUARE ROOT CONVERGENTS     Problem 57\n",
    "\n",
    "It is possible to show that the square root of two can be expressed as an infinite continued fraction.\n",
    "\n",
    "√ 2 = 1 + 1/(2 + 1/(2 + 1/(2 + ... ))) = 1.414213...\n",
    "\n",
    "By expanding this for the first four iterations, we get:\n",
    "\n",
    "1 + 1/2 = 3/2 = 1.5\n",
    "1 + 1/(2 + 1/2) = 7/5 = 1.4\n",
    "1 + 1/(2 + 1/(2 + 1/2)) = 17/12 = 1.41666...\n",
    "1 + 1/(2 + 1/(2 + 1/(2 + 1/2))) = 41/29 = 1.41379...\n",
    "\n",
    "The next three expansions are 99/70, 239/169, and 577/408, but the eighth expansion, 1393/985, is the first example where the number of digits in the numerator exceeds the number of digits in the denominator.\n",
    "\n",
    "In the first one-thousand expansions, how many fractions contain a numerator with more digits than denominator?"
   ]
  },
  {
   "cell_type": "code",
   "execution_count": null,
   "metadata": {
    "collapsed": true
   },
   "outputs": [],
   "source": [
    "def create_expansion(num, iter):\n",
    "    total_val = 2\n",
    "    for i in range(iter-1):\n",
    "        fract= 1 / (total_val)\n",
    "        print('Fraction =', fract)\n",
    "        total_val  = num + fract \n",
    "        print('Total_val = Num + fract =', total_val)\n",
    "    return (1 + 1/total_val)"
   ]
  },
  {
   "cell_type": "code",
   "execution_count": 105,
   "metadata": {
    "collapsed": false
   },
   "outputs": [],
   "source": [
    "def digitlen(num):\n",
    "    return len(str(num))\n",
    "\n",
    "def get_nums_n_denoms(num, iter):\n",
    "    denom = 2\n",
    "    numerator = 1\n",
    "    ans_list = []\n",
    "    for i in range(iter-1):\n",
    "        total_denom = (denom * num) + numerator\n",
    "        numerator = denom\n",
    "        denom = total_denom\n",
    "        total_numer = denom + numerator\n",
    "        if digitlen(total_numer) > digitlen(total_denom):\n",
    "            ans_list.append((i, total_numer, total_denom))\n",
    "    return ans_list\n",
    "\n"
   ]
  },
  {
   "cell_type": "code",
   "execution_count": 128,
   "metadata": {
    "collapsed": false
   },
   "outputs": [
    {
     "data": {
      "text/plain": [
       "153"
      ]
     },
     "execution_count": 128,
     "metadata": {},
     "output_type": "execute_result"
    }
   ],
   "source": [
    "len(get_nums_n_denoms(2, 1000))"
   ]
  },
  {
   "cell_type": "markdown",
   "metadata": {},
   "source": [
    "XOR DECRYPTION     Problem 59\n",
    "\n",
    "Each character on a computer is assigned a unique code and the preferred standard is ASCII \n",
    "(American Standard Code for Information Interchange). \n",
    "For example, uppercase A = 65, asterisk (*) = 42, and lowercase k = 107.\n",
    "\n",
    "A modern encryption method is to take a text file, convert the bytes to ASCII, then XOR each byte with a given value, \n",
    "taken from a secret key. \n",
    "The advantage with the XOR function is that using the same encryption key on the cipher text, restores the plain text;\n",
    "for example, 65 XOR 42 = 107, then 107 XOR 42 = 65.\n",
    "\n",
    "For unbreakable encryption, the key is the same length as the plain text message, \n",
    "and the key is made up of random bytes. \n",
    "The user would keep the encrypted message and the encryption key in different locations, \n",
    "and without both \"halves\", it is impossible to decrypt the message.\n",
    "\n",
    "Unfortunately, this method is impractical for most users, so the modified method is to use a password as a key. \n",
    "If the password is shorter than the message, which is likely, the key is repeated cyclically throughout the message. \n",
    "The balance for this method is using a sufficiently long password key for security, but short enough to be memorable.\n",
    "\n",
    "Your task has been made easy, as the encryption key consists of three lower case characters. \n",
    "Using cipher.txt (right click and 'Save Link/Target As...'), a file containing the encrypted ASCII codes, \n",
    "and the knowledge that the plain text must contain common English words, decrypt the message and find the sum of \n",
    "the ASCII values in the original text.\n"
   ]
  },
  {
   "cell_type": "code",
   "execution_count": 324,
   "metadata": {
    "collapsed": false
   },
   "outputs": [
    {
     "data": {
      "text/plain": [
       "107359"
      ]
     },
     "execution_count": 324,
     "metadata": {},
     "output_type": "execute_result"
    }
   ],
   "source": [
    "from itertools import permutations\n",
    "from math import ceil\n",
    "\n",
    "def load_ascii(file_name):\n",
    "    asciis = open(file_name, 'r').read()\n",
    "    enc_codes = [int(s) for s in asciis.split(',')]\n",
    "    return enc_codes\n",
    "\n",
    "def apply_key(key, asc_text):\n",
    "    return [chr(x ^ int(y)) for (x, y) in zip(key * int(ceil(len(asc_text) / 3)), asc_text)]\n",
    "\n",
    "def convert_to_wordlist(letter_list):\n",
    "    text = \"\".join(letter_list)\n",
    "    return text.split()\n",
    "\n",
    "key_len = 3\n",
    "msg_code_list = load_ascii(\"/Users/mikeludwig/downloads/p059_cipher.txt\")\n",
    "valid_chars = [i for i in range(ord('a'), ord('z') + 1)]\n",
    "perms = [perm for perm in permutations(valid_chars, key_len)]\n",
    "common_words = ['the', 'and', 'of']\n",
    "\n",
    "bests = [perm for perm in perms if set(common_words).issubset(convert_to_wordlist(apply_key(perm, msg_code_list)))]\n",
    "        \n",
    "pass_code = bests[0]\n",
    "final_asciis = apply_key(pass_code, msg_code_list)\n",
    "sum([ord(a) for a in final_asciis])"
   ]
  },
  {
   "cell_type": "markdown",
   "metadata": {},
   "source": [
    "POWERFUL DIGIT COUNTS     Problem 63\n",
    "\n",
    "The 5-digit number, 16807=7^5, is also a fifth power. Similarly, the 9-digit number, 134217728=8^9, is a ninth power.\n",
    "\n",
    "How many n-digit positive integers exist which are also an nth power?"
   ]
  },
  {
   "cell_type": "code",
   "execution_count": 318,
   "metadata": {
    "collapsed": false
   },
   "outputs": [],
   "source": [
    "winners = []\n",
    "for a in range(1, 100):\n",
    "    for b in range(1, 100):\n",
    "        if len(str(a**b)) == b:\n",
    "            winners.append(a**b)"
   ]
  },
  {
   "cell_type": "code",
   "execution_count": 321,
   "metadata": {
    "collapsed": false
   },
   "outputs": [
    {
     "data": {
      "text/plain": [
       "49"
      ]
     },
     "execution_count": 321,
     "metadata": {},
     "output_type": "execute_result"
    }
   ],
   "source": [
    "len(winners)"
   ]
  },
  {
   "cell_type": "markdown",
   "metadata": {
    "collapsed": true
   },
   "source": [
    "MAXIMUM PATH SUM II     Problem 67\n",
    "\n",
    "By starting at the top of the triangle below and moving to adjacent numbers on the row below, \n",
    "the maximum total from top to bottom is 23.\n",
    "\n",
    "3\n",
    "7 4\n",
    "2 4 6\n",
    "8 5 9 3\n",
    "\n",
    "That is, 3 + 7 + 4 + 9 = 23.\n",
    "\n",
    "Find the maximum total from top to bottom in triangle.txt (right click and 'Save Link/Target As...'), \n",
    "a 15K text file containing a triangle with one-hundred rows.\n",
    "\n",
    "NOTE: This is a much more difficult version of Problem 18. \n",
    "It is not possible to try every route to solve this problem, as there are 2^99 altogether! \n",
    "If you could check one trillion (10^12) routes every second it would take over twenty billion years to check them all. \n",
    "There is an efficient algorithm to solve it. ;o)"
   ]
  },
  {
   "cell_type": "code",
   "execution_count": 430,
   "metadata": {
    "collapsed": false
   },
   "outputs": [
    {
     "name": "stdout",
     "output_type": "stream",
     "text": [
      "[7273]\n"
     ]
    }
   ],
   "source": [
    "def load_data(file_name):\n",
    "    ints = []\n",
    "    data = open(file_name, 'r').readlines()\n",
    "    for line in data:\n",
    "        new_line = [int(number) for number in line.split()]\n",
    "        ints.extend([new_line])\n",
    "    return ints\n",
    "\n",
    "triangle_list = reversed(load_data(\"/Users/mikeludwig/downloads/p067_triangle.txt\"))\n",
    "\n",
    "totals = []\n",
    "\n",
    "for row in triangle_list:\n",
    "    totals = [\n",
    "        value + (max(totals[i], totals[i + 1]) if totals else 0)\n",
    "        for i, value in enumerate(row)\n",
    "    ]\n",
    "\n",
    "print(totals)"
   ]
  },
  {
   "cell_type": "code",
   "execution_count": null,
   "metadata": {
    "collapsed": true
   },
   "outputs": [],
   "source": [
    "LARGE NON-MERSENNE PRIME     Problem 97\n",
    "\n",
    "The first known prime found to exceed one million digits was discovered in 1999, \n",
    "and is a Mersenne prime of the form 2^6972593−1; it contains exactly 2,098,960 digits. \n",
    "Subsequently other Mersenne primes, of the form 2^p−1, have been found which contain more digits.\n",
    "\n",
    "However, in 2004 there was found a massive non-Mersenne prime which contains 2,357,207 digits: 28433×(2^7830457)+1.\n",
    "\n",
    "Find the last ten digits of this prime number.\n"
   ]
  },
  {
   "cell_type": "code",
   "execution_count": 470,
   "metadata": {
    "collapsed": false
   },
   "outputs": [
    {
     "name": "stdout",
     "output_type": "stream",
     "text": [
      "8739992577\n"
     ]
    }
   ],
   "source": [
    "answer_num = (pow(2, 7830457, 10**10) * 28433) + 1\n",
    "print((str(answer_num))[-10:])"
   ]
  },
  {
   "cell_type": "markdown",
   "metadata": {},
   "source": [
    "PASSCODE DERIVATION     Problem 79\n",
    "\n",
    "A common security method used for online banking is to ask the user for three random characters from a passcode. \n",
    "For example, if the passcode was 531278, they may ask for the 2nd, 3rd, and 5th characters; \n",
    "the expected reply would be: 317.\n",
    "\n",
    "The text file, keylog.txt, contains fifty successful login attempts.\n",
    "\n",
    "Given that the three characters are always asked for in order, \n",
    "analyse the file so as to determine the shortest possible secret passcode of unknown length.\n"
   ]
  },
  {
   "cell_type": "code",
   "execution_count": 216,
   "metadata": {
    "collapsed": false
   },
   "outputs": [
    {
     "name": "stdout",
     "output_type": "stream",
     "text": [
      "73162890\n"
     ]
    }
   ],
   "source": [
    "from itertools import *\n",
    "from collections import defaultdict\n",
    "\n",
    "\n",
    "def load_passcodes(file_name):\n",
    "    asciis = open(file_name, 'r').readlines()\n",
    "    clean_data = [line.rstrip() for line in asciis]\n",
    "    return clean_data\n",
    "\n",
    "def get_appearances(codes_list):\n",
    "    appearances = defaultdict(list)\n",
    "    for code in codes_list:\n",
    "        for i, n in enumerate(code):\n",
    "            appearances[n].append(i)\n",
    "    return appearances\n",
    "\n",
    "def get_avg_positions(appear_dict):\n",
    "    average_positions = {}\n",
    "    for k,v in list(appear_dict.items()):\n",
    "        average_positions[k] = float(sum(v))/float(len(v))\n",
    "    return average_positions\n",
    "\n",
    "\n",
    "test_text = load_passcodes(\"/Users/mikeludwig/downloads/p079_keylog.txt\")\n",
    "appearances = get_appearances(test_text)\n",
    "average_positions = get_avg_positions(appearances)\n",
    "\n",
    "answer_list = [k for k,v in sorted(list(average_positions.items()), key=lambda a: a[1])]\n",
    "\n",
    "\n",
    "print(''.join(str(digit) for digit in answer_list))"
   ]
  },
  {
   "cell_type": "markdown",
   "metadata": {
    "collapsed": true
   },
   "source": [
    "SQUARE DIGIT CHAINS     Problem 92\n",
    "\n",
    "A number chain is created by continuously adding the square of the digits in a number to form a new number \n",
    "until it has been seen before.\n",
    "\n",
    "For example,\n",
    "\n",
    "44 → 32 → 13 → 10 → 1 → 1\n",
    "85 → 89 → 145 → 42 → 20 → 4 → 16 → 37 → 58 → 89\n",
    "\n",
    "Therefore any chain that arrives at 1 or 89 will become stuck in an endless loop. \n",
    "What is most amazing is that EVERY starting number will eventually arrive at 1 or 89.\n",
    "\n",
    "How many starting numbers below ten million will arrive at 89?"
   ]
  },
  {
   "cell_type": "code",
   "execution_count": 246,
   "metadata": {
    "collapsed": false
   },
   "outputs": [
    {
     "data": {
      "text/plain": [
       "8581146"
      ]
     },
     "execution_count": 246,
     "metadata": {},
     "output_type": "execute_result"
    }
   ],
   "source": [
    "def square_digits(n):\n",
    "    total = 0\n",
    "    while n:\n",
    "        total += (n % 10) ** 2\n",
    "        n //= 10\n",
    "    return total\n",
    "\n",
    "def my_square_chain(i):\n",
    "    if i == 1 or i == 89: \n",
    "        return i\n",
    "    return my_square_chain(square_digits(i))\n",
    "\n",
    "len([i for i in range(2, 10**7) if my_square_chain(i) == 89])"
   ]
  },
  {
   "cell_type": "markdown",
   "metadata": {
    "collapsed": true
   },
   "source": [
    "CONCEALED SQUARE     Problem 206\n",
    "\n",
    "Find the unique positive integer whose square has the form 1_2_3_4_5_6_7_8_9_0,\n",
    "where each “_” is a single digit."
   ]
  },
  {
   "cell_type": "code",
   "execution_count": 25,
   "metadata": {
    "collapsed": false
   },
   "outputs": [],
   "source": [
    "from math import sqrt\n",
    "\n",
    "valid_str = '1234567890'\n",
    "max_num = round((sqrt(1929394959697989990)) / 100) * 100\n",
    "min_num = round(int(sqrt(1020304050607080900)) / 100) * 100\n",
    "\n",
    "answer = [num for num in (a + b for a in (30, 70) for b in range(max_num, min_num, -100))\n",
    "    if str(num * num)[::2] == '1234567890']"
   ]
  },
  {
   "cell_type": "code",
   "execution_count": 26,
   "metadata": {
    "collapsed": false
   },
   "outputs": [
    {
     "data": {
      "text/plain": [
       "[1389019170]"
      ]
     },
     "execution_count": 26,
     "metadata": {},
     "output_type": "execute_result"
    }
   ],
   "source": [
    "answer"
   ]
  },
  {
   "cell_type": "markdown",
   "metadata": {},
   "source": [
    "TOTIENT MAXIMUM     Problem 69\n",
    "\n",
    "Euler's Totient function, φ(n) [sometimes called the phi function], is used to determine the number of numbers less than n which are relatively prime to n. For example, as 1, 2, 4, 5, 7, and 8, are all less than nine and relatively prime to nine, φ(9)=6.\n",
    "n \tRelatively Prime \tφ(n) \tn/φ(n)\n",
    "2 \t1 \t1 \t2\n",
    "3 \t1,2 \t2 \t1.5\n",
    "4 \t1,3 \t2 \t2\n",
    "5 \t1,2,3,4 \t4 \t1.25\n",
    "6 \t1,5 \t2 \t3\n",
    "7 \t1,2,3,4,5,6 \t6 \t1.1666...\n",
    "8 \t1,3,5,7 \t4 \t2\n",
    "9 \t1,2,4,5,7,8 \t6 \t1.5\n",
    "10 \t1,3,7,9 \t4 \t2.5\n",
    "\n",
    "It can be seen that n=6 produces a maximum n/φ(n) for n ≤ 10.\n",
    "\n",
    "Find the value of n ≤ 1,000,000 for which n/φ(n) is a maximum.\n"
   ]
  },
  {
   "cell_type": "code",
   "execution_count": 4,
   "metadata": {
    "collapsed": false
   },
   "outputs": [
    {
     "name": "stdout",
     "output_type": "stream",
     "text": [
      "(510510, 5.539388020833333)\n"
     ]
    }
   ],
   "source": [
    "from sympy.ntheory import totient\n",
    "\n",
    "max_tot = (0, 0)\n",
    "for i in range(1, 10**6):\n",
    "    if i/totient(i) > max_tot[1]:\n",
    "        max_tot = (i, i/totient(i))\n",
    "print(max_tot)\n"
   ]
  },
  {
   "cell_type": "markdown",
   "metadata": {},
   "source": [
    "LARGEST EXPONENTIAL    Problem 99\n",
    "\n",
    "Comparing two numbers written in index form like 2^11 and 3^7 is not difficult, as any calculator would \n",
    "confirm that 2^11 = 2048 < 3^7 = 2187.\n",
    "\n",
    "However, confirming that 632382^518061 > 519432^525806 would be much more difficult, \n",
    "as both numbers contain over three million digits.\n",
    "\n",
    "Using base_exp.txt (right click and 'Save Link/Target As...'), a 22K text file containing one thousand \n",
    "lines with a base/exponent pair on each line, determine which line number has the greatest numerical value.\n",
    "\n",
    "NOTE: The first two lines in the file represent the numbers in the example given above."
   ]
  },
  {
   "cell_type": "code",
   "execution_count": 140,
   "metadata": {
    "collapsed": false
   },
   "outputs": [
    {
     "name": "stdout",
     "output_type": "stream",
     "text": [
      "709\n"
     ]
    }
   ],
   "source": [
    "from math import log\n",
    "\n",
    "def load_file(file_name):\n",
    "    info = open(file_name, 'r').readlines()\n",
    "    new_info = [line.replace(\"\\n\", \"\") for line in info]\n",
    "    newer_info = [line.split(',') for line in new_info]\n",
    "    return [list(map(int, x)) for x in newer_info]\n",
    "\n",
    "prob_file = '/Users/mikeludwig/Code/p099_base_exp.txt'\n",
    "baseex_pairs = load_file(prob_file)\n",
    "\n",
    "log_vals = [y * log(x) for x,y in baseex_pairs]\n",
    "answer = max(enumerate(log_vals), key= lambda x: x[1])\n",
    "print(answer[0]+1)"
   ]
  },
  {
   "cell_type": "markdown",
   "metadata": {
    "collapsed": true
   },
   "source": [
    "PRIME GENERATING INTEGERS      Problem 357\n",
    "\n",
    "Consider the divisors of 30: 1,2,3,5,6,10,15,30.\n",
    "It can be seen that for every divisor d of 30, d+30/d is prime.\n",
    "\n",
    "Find the sum of all positive integers n not exceeding 100,000,000\n",
    "such that for every divisor d of n, d+n/d is prime.\n",
    "  "
   ]
  },
  {
   "cell_type": "code",
   "execution_count": 291,
   "metadata": {
    "collapsed": false
   },
   "outputs": [],
   "source": [
    "from math import sqrt\n",
    "from sympy.ntheory.primetest import isprime\n",
    "from sympy import sieve\n",
    "from sympy import factorint\n",
    "from sympy import divisors\n",
    "\n",
    "\n",
    "def isprimegenerating(n):\n",
    "    return all(isprime(k+(n/k)) for k in divisors(n))\n",
    "\n",
    "def noprimesquares(n):\n",
    "    dict = factorint(n)\n",
    "    return not[x for x in dict if dict[x]>=2]\n",
    "\n",
    "def gen_good_divs_upto(n):\n",
    "    primes = sieve.primerange(1, n+1)\n",
    "    answer = [1]\n",
    "    for i in primes:\n",
    "        j = i-1\n",
    "        if j%2 == 0 and isprime(j/2 +2):\n",
    "            if noprimesquares(j):\n",
    "                if isprimegenerating(j):\n",
    "                    answer.append(j)\n",
    "    return answer"
   ]
  },
  {
   "cell_type": "code",
   "execution_count": 290,
   "metadata": {
    "collapsed": false
   },
   "outputs": [
    {
     "data": {
      "text/plain": [
       "1739023853137"
      ]
     },
     "execution_count": 290,
     "metadata": {},
     "output_type": "execute_result"
    }
   ],
   "source": [
    "sum(gen_good_divs_upto(10**8))"
   ]
  },
  {
   "cell_type": "code",
   "execution_count": 2,
   "metadata": {
    "collapsed": false
   },
   "outputs": [],
   "source": [
    "import itertools\n",
    "all_nums_19= [n for n in range(1, 10)]\n",
    "test_list = (list(itertools.permutations(all_nums_19, 5)))"
   ]
  },
  {
   "cell_type": "code",
   "execution_count": 4,
   "metadata": {
    "collapsed": false
   },
   "outputs": [
    {
     "data": {
      "text/plain": [
       "[1, 2, 3, 4, 5, 6, 7, 8, 9]"
      ]
     },
     "execution_count": 4,
     "metadata": {},
     "output_type": "execute_result"
    }
   ],
   "source": [
    "all_nums_19"
   ]
  },
  {
   "cell_type": "code",
   "execution_count": null,
   "metadata": {
    "collapsed": true
   },
   "outputs": [],
   "source": []
  }
 ],
 "metadata": {
  "kernelspec": {
   "display_name": "Python 3",
   "language": "python",
   "name": "python3"
  },
  "language_info": {
   "codemirror_mode": {
    "name": "ipython",
    "version": 3
   },
   "file_extension": ".py",
   "mimetype": "text/x-python",
   "name": "python",
   "nbconvert_exporter": "python",
   "pygments_lexer": "ipython3",
   "version": "3.4.3"
  }
 },
 "nbformat": 4,
 "nbformat_minor": 0
}
